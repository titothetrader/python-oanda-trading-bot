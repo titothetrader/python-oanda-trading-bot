{
 "cells": [
  {
   "cell_type": "code",
   "execution_count": 23,
   "metadata": {},
   "outputs": [],
   "source": [
    "import pandas as pd\n",
    "import plotly.graph_objects as go\n",
    "import oanda_utils"
   ]
  },
  {
   "cell_type": "code",
   "execution_count": 24,
   "metadata": {},
   "outputs": [],
   "source": [
    "plot_cols = ['ENTRY', 'STOPLOSS', 'TAKEPROFIT']\n",
    "plot_colors = ['#043ef9', '#eb5334', '#34eb37']\n",
    "def plot_candles(df_plot):\n",
    "    fig = go.Figure()\n",
    "    fig.add_trace(go.Candlestick(\n",
    "        x = df_plot.time, open=df_plot.mid_o, high=df_plot.mid_h, low=df_plot.mid_l, close=df_plot.mid_c,\n",
    "        line=dict(width=1), opacity=1,\n",
    "        increasing_fillcolor='#24A06B',\n",
    "        decreasing_fillcolor='#CC2E3C',\n",
    "        increasing_line_color='#2EC886',\n",
    "        decreasing_line_color='#FF3A4C'\n",
    "    ))\n",
    "    for i in range(0, 3):\n",
    "        fig.add_trace(go.Scatter(\n",
    "            x=df_buys.time,\n",
    "            y=df_buys[plot_cols[i]],\n",
    "            mode='markers',     # this hides the line that connects the dots\n",
    "            marker=dict(color=plot_colors[i], size=12)\n",
    "        ))\n",
    "    for i in range(0, 3):\n",
    "        fig.add_trace(go.Scatter(\n",
    "            x=df_sells.time,\n",
    "            y=df_sells[plot_cols[i]],\n",
    "            mode='markers',     # this hides the line that connects the dots\n",
    "            marker=dict(color=plot_colors[i], size=12)\n",
    "        ))\n",
    "    fig.update_layout(width=1000,height=400,\n",
    "        margin=dict(l=10, r=10, b=10, t=10),\n",
    "        font=dict(size=10,color=\"#e1e1e1\"),\n",
    "        paper_bgcolor=\"#1e1e1e\", \n",
    "        plot_bgcolor=\"#1e1e1e\")\n",
    "\n",
    "    fig.update_xaxes(\n",
    "        gridcolor=\"#1f292f\",\n",
    "        showgrid=True,fixedrange=True,rangeslider=dict(visible=False),\n",
    "        rangebreaks=[\n",
    "            dict(bounds=[\"sat\", \"mon\"])\n",
    "        ]\n",
    "    )\n",
    "\n",
    "    fig.update_yaxes(\n",
    "        gridcolor=\"#1f292f\",\n",
    "        showgrid=True)\n",
    "\n",
    "    fig.show()  "
   ]
  },
  {
   "cell_type": "code",
   "execution_count": 25,
   "metadata": {},
   "outputs": [],
   "source": [
    "pair = \"USD_JPY\"\n",
    "granularity = \"H4\"\n",
    "df_raw = pd.read_pickle(oanda_utils.get_his_data_filename(pair,granularity))"
   ]
  },
  {
   "cell_type": "code",
   "execution_count": 26,
   "metadata": {},
   "outputs": [],
   "source": [
    "non_cols = ['time', 'volume']\n",
    "mod_cols = [x for x in df_raw.columns if x not in non_cols]\n",
    "df_raw[mod_cols] = df_raw[mod_cols].apply(pd.to_numeric)"
   ]
  },
  {
   "cell_type": "code",
   "execution_count": 27,
   "metadata": {},
   "outputs": [
    {
     "data": {
      "text/html": [
       "<div>\n",
       "<style scoped>\n",
       "    .dataframe tbody tr th:only-of-type {\n",
       "        vertical-align: middle;\n",
       "    }\n",
       "\n",
       "    .dataframe tbody tr th {\n",
       "        vertical-align: top;\n",
       "    }\n",
       "\n",
       "    .dataframe thead th {\n",
       "        text-align: right;\n",
       "    }\n",
       "</style>\n",
       "<table border=\"1\" class=\"dataframe\">\n",
       "  <thead>\n",
       "    <tr style=\"text-align: right;\">\n",
       "      <th></th>\n",
       "      <th>time</th>\n",
       "      <th>volume</th>\n",
       "      <th>mid_o</th>\n",
       "      <th>mid_h</th>\n",
       "      <th>mid_l</th>\n",
       "      <th>mid_c</th>\n",
       "      <th>bid_o</th>\n",
       "      <th>bid_h</th>\n",
       "      <th>bid_l</th>\n",
       "      <th>bid_c</th>\n",
       "      <th>ask_o</th>\n",
       "      <th>ask_h</th>\n",
       "      <th>ask_l</th>\n",
       "      <th>ask_c</th>\n",
       "    </tr>\n",
       "  </thead>\n",
       "  <tbody>\n",
       "    <tr>\n",
       "      <th>0</th>\n",
       "      <td>2018-01-01 22:00:00+00:00</td>\n",
       "      <td>2968</td>\n",
       "      <td>112.666</td>\n",
       "      <td>112.793</td>\n",
       "      <td>112.582</td>\n",
       "      <td>112.723</td>\n",
       "      <td>112.626</td>\n",
       "      <td>112.786</td>\n",
       "      <td>112.559</td>\n",
       "      <td>112.716</td>\n",
       "      <td>112.706</td>\n",
       "      <td>112.800</td>\n",
       "      <td>112.601</td>\n",
       "      <td>112.730</td>\n",
       "    </tr>\n",
       "    <tr>\n",
       "      <th>3</th>\n",
       "      <td>2018-01-02 02:00:00+00:00</td>\n",
       "      <td>1009</td>\n",
       "      <td>112.720</td>\n",
       "      <td>112.751</td>\n",
       "      <td>112.666</td>\n",
       "      <td>112.688</td>\n",
       "      <td>112.712</td>\n",
       "      <td>112.744</td>\n",
       "      <td>112.657</td>\n",
       "      <td>112.683</td>\n",
       "      <td>112.728</td>\n",
       "      <td>112.758</td>\n",
       "      <td>112.674</td>\n",
       "      <td>112.694</td>\n",
       "    </tr>\n",
       "    <tr>\n",
       "      <th>6</th>\n",
       "      <td>2018-01-02 06:00:00+00:00</td>\n",
       "      <td>2226</td>\n",
       "      <td>112.691</td>\n",
       "      <td>112.700</td>\n",
       "      <td>112.249</td>\n",
       "      <td>112.252</td>\n",
       "      <td>112.684</td>\n",
       "      <td>112.694</td>\n",
       "      <td>112.242</td>\n",
       "      <td>112.245</td>\n",
       "      <td>112.698</td>\n",
       "      <td>112.705</td>\n",
       "      <td>112.256</td>\n",
       "      <td>112.258</td>\n",
       "    </tr>\n",
       "    <tr>\n",
       "      <th>9</th>\n",
       "      <td>2018-01-02 10:00:00+00:00</td>\n",
       "      <td>2056</td>\n",
       "      <td>112.254</td>\n",
       "      <td>112.282</td>\n",
       "      <td>112.086</td>\n",
       "      <td>112.124</td>\n",
       "      <td>112.247</td>\n",
       "      <td>112.275</td>\n",
       "      <td>112.079</td>\n",
       "      <td>112.119</td>\n",
       "      <td>112.260</td>\n",
       "      <td>112.288</td>\n",
       "      <td>112.092</td>\n",
       "      <td>112.130</td>\n",
       "    </tr>\n",
       "    <tr>\n",
       "      <th>12</th>\n",
       "      <td>2018-01-02 14:00:00+00:00</td>\n",
       "      <td>3781</td>\n",
       "      <td>112.122</td>\n",
       "      <td>112.304</td>\n",
       "      <td>112.058</td>\n",
       "      <td>112.285</td>\n",
       "      <td>112.114</td>\n",
       "      <td>112.297</td>\n",
       "      <td>112.051</td>\n",
       "      <td>112.278</td>\n",
       "      <td>112.129</td>\n",
       "      <td>112.311</td>\n",
       "      <td>112.065</td>\n",
       "      <td>112.292</td>\n",
       "    </tr>\n",
       "  </tbody>\n",
       "</table>\n",
       "</div>"
      ],
      "text/plain": [
       "                        time  volume    mid_o    mid_h    mid_l    mid_c  \\\n",
       "0  2018-01-01 22:00:00+00:00    2968  112.666  112.793  112.582  112.723   \n",
       "3  2018-01-02 02:00:00+00:00    1009  112.720  112.751  112.666  112.688   \n",
       "6  2018-01-02 06:00:00+00:00    2226  112.691  112.700  112.249  112.252   \n",
       "9  2018-01-02 10:00:00+00:00    2056  112.254  112.282  112.086  112.124   \n",
       "12 2018-01-02 14:00:00+00:00    3781  112.122  112.304  112.058  112.285   \n",
       "\n",
       "      bid_o    bid_h    bid_l    bid_c    ask_o    ask_h    ask_l    ask_c  \n",
       "0   112.626  112.786  112.559  112.716  112.706  112.800  112.601  112.730  \n",
       "3   112.712  112.744  112.657  112.683  112.728  112.758  112.674  112.694  \n",
       "6   112.684  112.694  112.242  112.245  112.698  112.705  112.256  112.258  \n",
       "9   112.247  112.275  112.079  112.119  112.260  112.288  112.092  112.130  \n",
       "12  112.114  112.297  112.051  112.278  112.129  112.311  112.065  112.292  "
      ]
     },
     "execution_count": 27,
     "metadata": {},
     "output_type": "execute_result"
    }
   ],
   "source": [
    "df_raw.head()"
   ]
  },
  {
   "cell_type": "code",
   "execution_count": 28,
   "metadata": {},
   "outputs": [
    {
     "data": {
      "text/plain": [
       "Index(['time', 'volume', 'mid_o', 'mid_h', 'mid_l', 'mid_c', 'bid_o', 'bid_h',\n",
       "       'bid_l', 'bid_c', 'ask_o', 'ask_h', 'ask_l', 'ask_c'],\n",
       "      dtype='object')"
      ]
     },
     "execution_count": 28,
     "metadata": {},
     "output_type": "execute_result"
    }
   ],
   "source": [
    "df_raw.columns"
   ]
  },
  {
   "cell_type": "code",
   "execution_count": null,
   "metadata": {},
   "outputs": [],
   "source": []
  },
  {
   "cell_type": "code",
   "execution_count": 29,
   "metadata": {},
   "outputs": [],
   "source": [
    "SLOSS = 0.4\n",
    "TPROFIT = 0.8\n",
    "ENTRY_PRC = 0.1\n",
    "\n",
    "def direction(row):\n",
    "    if row.mid_c > row.mid_o:\n",
    "        return 1\n",
    "    return -1\n",
    "\n",
    "def get_signal(row):\n",
    "    if row.mid_h_prev > row.mid_h and row.mid_l_prev < row.mid_l:\n",
    "        return row.DIRECTION_prev\n",
    "    return 0\n",
    "\n",
    "def get_entry_stop(row):\n",
    "    if row.SIGNAL == 1:\n",
    "        return (row.RANGE_prev * ENTRY_PRC) + row.ask_h_prev\n",
    "    elif row.SIGNAL == -1:\n",
    "        return row.bid_l_prev - (row.RANGE_prev * ENTRY_PRC)\n",
    "    else:\n",
    "        return 0\n",
    "\n",
    "def get_stop_loss(row):\n",
    "    if row.SIGNAL == 1:\n",
    "        return row.ENTRY - (row.RANGE_prev * SLOSS)\n",
    "    elif row.SIGNAL == -1:\n",
    "        return row.ENTRY + (row.RANGE_prev * SLOSS)\n",
    "    else:\n",
    "        return 0\n",
    "\n",
    "def get_take_profit(row):\n",
    "    if row.SIGNAL == 1:\n",
    "        return row.ENTRY + (row.RANGE_prev * TPROFIT)\n",
    "    elif row.SIGNAL == -1:\n",
    "        return row.ENTRY - (row.RANGE_prev * TPROFIT)\n",
    "    else:\n",
    "        return 0\n"
   ]
  },
  {
   "cell_type": "code",
   "execution_count": 30,
   "metadata": {},
   "outputs": [],
   "source": [
    "df = df_raw.copy()\n",
    "df['RANGE'] = df.mid_h - df.mid_l\n",
    "df['mid_h_prev'] = df.mid_h.shift(1)\n",
    "df['mid_l_prev'] = df.mid_l.shift(1)\n",
    "df['ask_h_prev'] = df.ask_h.shift(1)\n",
    "df['bid_l_prev'] = df.bid_l.shift(1)\n",
    "df['RANGE_prev'] = df.RANGE.shift(1)\n",
    "df['DIRECTION'] = df.apply(direction, axis=1)\n",
    "df['DIRECTION_prev'] = df.DIRECTION.shift(1).fillna(0).astype(int)\n",
    "df.dropna(inplace=True)\n",
    "df['SIGNAL'] = df.apply(get_signal, axis=1)\n",
    "df.reset_index(drop=True, inplace=True)"
   ]
  },
  {
   "cell_type": "code",
   "execution_count": 31,
   "metadata": {},
   "outputs": [],
   "source": [
    "df['ENTRY'] = df.apply(get_entry_stop, axis=1)\n",
    "df['STOPLOSS'] = df.apply(get_stop_loss, axis=1)\n",
    "df['TAKEPROFIT'] = df.apply(get_take_profit, axis=1)"
   ]
  },
  {
   "cell_type": "code",
   "execution_count": 32,
   "metadata": {},
   "outputs": [
    {
     "data": {
      "text/html": [
       "<div>\n",
       "<style scoped>\n",
       "    .dataframe tbody tr th:only-of-type {\n",
       "        vertical-align: middle;\n",
       "    }\n",
       "\n",
       "    .dataframe tbody tr th {\n",
       "        vertical-align: top;\n",
       "    }\n",
       "\n",
       "    .dataframe thead th {\n",
       "        text-align: right;\n",
       "    }\n",
       "</style>\n",
       "<table border=\"1\" class=\"dataframe\">\n",
       "  <thead>\n",
       "    <tr style=\"text-align: right;\">\n",
       "      <th></th>\n",
       "      <th>time</th>\n",
       "      <th>volume</th>\n",
       "      <th>mid_o</th>\n",
       "      <th>mid_h</th>\n",
       "      <th>mid_l</th>\n",
       "      <th>mid_c</th>\n",
       "      <th>bid_o</th>\n",
       "      <th>bid_h</th>\n",
       "      <th>bid_l</th>\n",
       "      <th>bid_c</th>\n",
       "      <th>...</th>\n",
       "      <th>mid_l_prev</th>\n",
       "      <th>ask_h_prev</th>\n",
       "      <th>bid_l_prev</th>\n",
       "      <th>RANGE_prev</th>\n",
       "      <th>DIRECTION</th>\n",
       "      <th>DIRECTION_prev</th>\n",
       "      <th>SIGNAL</th>\n",
       "      <th>ENTRY</th>\n",
       "      <th>STOPLOSS</th>\n",
       "      <th>TAKEPROFIT</th>\n",
       "    </tr>\n",
       "  </thead>\n",
       "  <tbody>\n",
       "    <tr>\n",
       "      <th>0</th>\n",
       "      <td>2018-01-02 02:00:00+00:00</td>\n",
       "      <td>1009</td>\n",
       "      <td>112.720</td>\n",
       "      <td>112.751</td>\n",
       "      <td>112.666</td>\n",
       "      <td>112.688</td>\n",
       "      <td>112.712</td>\n",
       "      <td>112.744</td>\n",
       "      <td>112.657</td>\n",
       "      <td>112.683</td>\n",
       "      <td>...</td>\n",
       "      <td>112.582</td>\n",
       "      <td>112.800</td>\n",
       "      <td>112.559</td>\n",
       "      <td>0.211</td>\n",
       "      <td>-1</td>\n",
       "      <td>1</td>\n",
       "      <td>1</td>\n",
       "      <td>112.8211</td>\n",
       "      <td>112.7367</td>\n",
       "      <td>112.9899</td>\n",
       "    </tr>\n",
       "    <tr>\n",
       "      <th>1</th>\n",
       "      <td>2018-01-02 06:00:00+00:00</td>\n",
       "      <td>2226</td>\n",
       "      <td>112.691</td>\n",
       "      <td>112.700</td>\n",
       "      <td>112.249</td>\n",
       "      <td>112.252</td>\n",
       "      <td>112.684</td>\n",
       "      <td>112.694</td>\n",
       "      <td>112.242</td>\n",
       "      <td>112.245</td>\n",
       "      <td>...</td>\n",
       "      <td>112.666</td>\n",
       "      <td>112.758</td>\n",
       "      <td>112.657</td>\n",
       "      <td>0.085</td>\n",
       "      <td>-1</td>\n",
       "      <td>-1</td>\n",
       "      <td>0</td>\n",
       "      <td>0.0000</td>\n",
       "      <td>0.0000</td>\n",
       "      <td>0.0000</td>\n",
       "    </tr>\n",
       "    <tr>\n",
       "      <th>2</th>\n",
       "      <td>2018-01-02 10:00:00+00:00</td>\n",
       "      <td>2056</td>\n",
       "      <td>112.254</td>\n",
       "      <td>112.282</td>\n",
       "      <td>112.086</td>\n",
       "      <td>112.124</td>\n",
       "      <td>112.247</td>\n",
       "      <td>112.275</td>\n",
       "      <td>112.079</td>\n",
       "      <td>112.119</td>\n",
       "      <td>...</td>\n",
       "      <td>112.249</td>\n",
       "      <td>112.705</td>\n",
       "      <td>112.242</td>\n",
       "      <td>0.451</td>\n",
       "      <td>-1</td>\n",
       "      <td>-1</td>\n",
       "      <td>0</td>\n",
       "      <td>0.0000</td>\n",
       "      <td>0.0000</td>\n",
       "      <td>0.0000</td>\n",
       "    </tr>\n",
       "    <tr>\n",
       "      <th>3</th>\n",
       "      <td>2018-01-02 14:00:00+00:00</td>\n",
       "      <td>3781</td>\n",
       "      <td>112.122</td>\n",
       "      <td>112.304</td>\n",
       "      <td>112.058</td>\n",
       "      <td>112.285</td>\n",
       "      <td>112.114</td>\n",
       "      <td>112.297</td>\n",
       "      <td>112.051</td>\n",
       "      <td>112.278</td>\n",
       "      <td>...</td>\n",
       "      <td>112.086</td>\n",
       "      <td>112.288</td>\n",
       "      <td>112.079</td>\n",
       "      <td>0.196</td>\n",
       "      <td>1</td>\n",
       "      <td>-1</td>\n",
       "      <td>0</td>\n",
       "      <td>0.0000</td>\n",
       "      <td>0.0000</td>\n",
       "      <td>0.0000</td>\n",
       "    </tr>\n",
       "    <tr>\n",
       "      <th>4</th>\n",
       "      <td>2018-01-02 18:00:00+00:00</td>\n",
       "      <td>1268</td>\n",
       "      <td>112.288</td>\n",
       "      <td>112.354</td>\n",
       "      <td>112.244</td>\n",
       "      <td>112.291</td>\n",
       "      <td>112.280</td>\n",
       "      <td>112.347</td>\n",
       "      <td>112.238</td>\n",
       "      <td>112.262</td>\n",
       "      <td>...</td>\n",
       "      <td>112.058</td>\n",
       "      <td>112.311</td>\n",
       "      <td>112.051</td>\n",
       "      <td>0.246</td>\n",
       "      <td>1</td>\n",
       "      <td>1</td>\n",
       "      <td>0</td>\n",
       "      <td>0.0000</td>\n",
       "      <td>0.0000</td>\n",
       "      <td>0.0000</td>\n",
       "    </tr>\n",
       "  </tbody>\n",
       "</table>\n",
       "<p>5 rows × 26 columns</p>\n",
       "</div>"
      ],
      "text/plain": [
       "                       time  volume    mid_o    mid_h    mid_l    mid_c  \\\n",
       "0 2018-01-02 02:00:00+00:00    1009  112.720  112.751  112.666  112.688   \n",
       "1 2018-01-02 06:00:00+00:00    2226  112.691  112.700  112.249  112.252   \n",
       "2 2018-01-02 10:00:00+00:00    2056  112.254  112.282  112.086  112.124   \n",
       "3 2018-01-02 14:00:00+00:00    3781  112.122  112.304  112.058  112.285   \n",
       "4 2018-01-02 18:00:00+00:00    1268  112.288  112.354  112.244  112.291   \n",
       "\n",
       "     bid_o    bid_h    bid_l    bid_c  ...  mid_l_prev  ask_h_prev  \\\n",
       "0  112.712  112.744  112.657  112.683  ...     112.582     112.800   \n",
       "1  112.684  112.694  112.242  112.245  ...     112.666     112.758   \n",
       "2  112.247  112.275  112.079  112.119  ...     112.249     112.705   \n",
       "3  112.114  112.297  112.051  112.278  ...     112.086     112.288   \n",
       "4  112.280  112.347  112.238  112.262  ...     112.058     112.311   \n",
       "\n",
       "   bid_l_prev  RANGE_prev  DIRECTION  DIRECTION_prev  SIGNAL     ENTRY  \\\n",
       "0     112.559       0.211         -1               1       1  112.8211   \n",
       "1     112.657       0.085         -1              -1       0    0.0000   \n",
       "2     112.242       0.451         -1              -1       0    0.0000   \n",
       "3     112.079       0.196          1              -1       0    0.0000   \n",
       "4     112.051       0.246          1               1       0    0.0000   \n",
       "\n",
       "   STOPLOSS  TAKEPROFIT  \n",
       "0  112.7367    112.9899  \n",
       "1    0.0000      0.0000  \n",
       "2    0.0000      0.0000  \n",
       "3    0.0000      0.0000  \n",
       "4    0.0000      0.0000  \n",
       "\n",
       "[5 rows x 26 columns]"
      ]
     },
     "execution_count": 32,
     "metadata": {},
     "output_type": "execute_result"
    }
   ],
   "source": [
    "df.head()"
   ]
  },
  {
   "cell_type": "code",
   "execution_count": 33,
   "metadata": {},
   "outputs": [
    {
     "data": {
      "text/plain": [
       "(830, 26)"
      ]
     },
     "execution_count": 33,
     "metadata": {},
     "output_type": "execute_result"
    }
   ],
   "source": [
    "df[df.SIGNAL!=0].shape"
   ]
  },
  {
   "cell_type": "code",
   "execution_count": 34,
   "metadata": {},
   "outputs": [
    {
     "data": {
      "text/html": [
       "<div>\n",
       "<style scoped>\n",
       "    .dataframe tbody tr th:only-of-type {\n",
       "        vertical-align: middle;\n",
       "    }\n",
       "\n",
       "    .dataframe tbody tr th {\n",
       "        vertical-align: top;\n",
       "    }\n",
       "\n",
       "    .dataframe thead th {\n",
       "        text-align: right;\n",
       "    }\n",
       "</style>\n",
       "<table border=\"1\" class=\"dataframe\">\n",
       "  <thead>\n",
       "    <tr style=\"text-align: right;\">\n",
       "      <th></th>\n",
       "      <th>time</th>\n",
       "      <th>volume</th>\n",
       "      <th>mid_o</th>\n",
       "      <th>mid_h</th>\n",
       "      <th>mid_l</th>\n",
       "      <th>mid_c</th>\n",
       "      <th>bid_o</th>\n",
       "      <th>bid_h</th>\n",
       "      <th>bid_l</th>\n",
       "      <th>bid_c</th>\n",
       "      <th>...</th>\n",
       "      <th>mid_l_prev</th>\n",
       "      <th>ask_h_prev</th>\n",
       "      <th>bid_l_prev</th>\n",
       "      <th>RANGE_prev</th>\n",
       "      <th>DIRECTION</th>\n",
       "      <th>DIRECTION_prev</th>\n",
       "      <th>SIGNAL</th>\n",
       "      <th>ENTRY</th>\n",
       "      <th>STOPLOSS</th>\n",
       "      <th>TAKEPROFIT</th>\n",
       "    </tr>\n",
       "  </thead>\n",
       "  <tbody>\n",
       "    <tr>\n",
       "      <th>0</th>\n",
       "      <td>2018-01-02 02:00:00+00:00</td>\n",
       "      <td>1009</td>\n",
       "      <td>112.720</td>\n",
       "      <td>112.751</td>\n",
       "      <td>112.666</td>\n",
       "      <td>112.688</td>\n",
       "      <td>112.712</td>\n",
       "      <td>112.744</td>\n",
       "      <td>112.657</td>\n",
       "      <td>112.683</td>\n",
       "      <td>...</td>\n",
       "      <td>112.582</td>\n",
       "      <td>112.800</td>\n",
       "      <td>112.559</td>\n",
       "      <td>0.211</td>\n",
       "      <td>-1</td>\n",
       "      <td>1</td>\n",
       "      <td>1</td>\n",
       "      <td>112.8211</td>\n",
       "      <td>112.7367</td>\n",
       "      <td>112.9899</td>\n",
       "    </tr>\n",
       "    <tr>\n",
       "      <th>12</th>\n",
       "      <td>2018-01-04 02:00:00+00:00</td>\n",
       "      <td>1560</td>\n",
       "      <td>112.731</td>\n",
       "      <td>112.731</td>\n",
       "      <td>112.618</td>\n",
       "      <td>112.661</td>\n",
       "      <td>112.724</td>\n",
       "      <td>112.724</td>\n",
       "      <td>112.611</td>\n",
       "      <td>112.654</td>\n",
       "      <td>...</td>\n",
       "      <td>112.480</td>\n",
       "      <td>112.785</td>\n",
       "      <td>112.455</td>\n",
       "      <td>0.298</td>\n",
       "      <td>-1</td>\n",
       "      <td>1</td>\n",
       "      <td>1</td>\n",
       "      <td>112.8148</td>\n",
       "      <td>112.6956</td>\n",
       "      <td>113.0532</td>\n",
       "    </tr>\n",
       "    <tr>\n",
       "      <th>17</th>\n",
       "      <td>2018-01-04 22:00:00+00:00</td>\n",
       "      <td>1563</td>\n",
       "      <td>112.750</td>\n",
       "      <td>112.806</td>\n",
       "      <td>112.730</td>\n",
       "      <td>112.774</td>\n",
       "      <td>112.722</td>\n",
       "      <td>112.799</td>\n",
       "      <td>112.708</td>\n",
       "      <td>112.767</td>\n",
       "      <td>...</td>\n",
       "      <td>112.713</td>\n",
       "      <td>112.846</td>\n",
       "      <td>112.706</td>\n",
       "      <td>0.125</td>\n",
       "      <td>1</td>\n",
       "      <td>-1</td>\n",
       "      <td>-1</td>\n",
       "      <td>112.6935</td>\n",
       "      <td>112.7435</td>\n",
       "      <td>112.5935</td>\n",
       "    </tr>\n",
       "    <tr>\n",
       "      <th>21</th>\n",
       "      <td>2018-01-05 14:00:00+00:00</td>\n",
       "      <td>3844</td>\n",
       "      <td>113.213</td>\n",
       "      <td>113.276</td>\n",
       "      <td>113.082</td>\n",
       "      <td>113.160</td>\n",
       "      <td>113.206</td>\n",
       "      <td>113.269</td>\n",
       "      <td>113.076</td>\n",
       "      <td>113.153</td>\n",
       "      <td>...</td>\n",
       "      <td>113.021</td>\n",
       "      <td>113.330</td>\n",
       "      <td>112.999</td>\n",
       "      <td>0.291</td>\n",
       "      <td>-1</td>\n",
       "      <td>-1</td>\n",
       "      <td>-1</td>\n",
       "      <td>112.9699</td>\n",
       "      <td>113.0863</td>\n",
       "      <td>112.7371</td>\n",
       "    </tr>\n",
       "    <tr>\n",
       "      <th>27</th>\n",
       "      <td>2018-01-08 14:00:00+00:00</td>\n",
       "      <td>2537</td>\n",
       "      <td>112.928</td>\n",
       "      <td>113.125</td>\n",
       "      <td>112.904</td>\n",
       "      <td>113.082</td>\n",
       "      <td>112.921</td>\n",
       "      <td>113.119</td>\n",
       "      <td>112.898</td>\n",
       "      <td>113.076</td>\n",
       "      <td>...</td>\n",
       "      <td>112.884</td>\n",
       "      <td>113.173</td>\n",
       "      <td>112.877</td>\n",
       "      <td>0.283</td>\n",
       "      <td>1</td>\n",
       "      <td>-1</td>\n",
       "      <td>-1</td>\n",
       "      <td>112.8487</td>\n",
       "      <td>112.9619</td>\n",
       "      <td>112.6223</td>\n",
       "    </tr>\n",
       "  </tbody>\n",
       "</table>\n",
       "<p>5 rows × 26 columns</p>\n",
       "</div>"
      ],
      "text/plain": [
       "                        time  volume    mid_o    mid_h    mid_l    mid_c  \\\n",
       "0  2018-01-02 02:00:00+00:00    1009  112.720  112.751  112.666  112.688   \n",
       "12 2018-01-04 02:00:00+00:00    1560  112.731  112.731  112.618  112.661   \n",
       "17 2018-01-04 22:00:00+00:00    1563  112.750  112.806  112.730  112.774   \n",
       "21 2018-01-05 14:00:00+00:00    3844  113.213  113.276  113.082  113.160   \n",
       "27 2018-01-08 14:00:00+00:00    2537  112.928  113.125  112.904  113.082   \n",
       "\n",
       "      bid_o    bid_h    bid_l    bid_c  ...  mid_l_prev  ask_h_prev  \\\n",
       "0   112.712  112.744  112.657  112.683  ...     112.582     112.800   \n",
       "12  112.724  112.724  112.611  112.654  ...     112.480     112.785   \n",
       "17  112.722  112.799  112.708  112.767  ...     112.713     112.846   \n",
       "21  113.206  113.269  113.076  113.153  ...     113.021     113.330   \n",
       "27  112.921  113.119  112.898  113.076  ...     112.884     113.173   \n",
       "\n",
       "    bid_l_prev  RANGE_prev  DIRECTION  DIRECTION_prev  SIGNAL     ENTRY  \\\n",
       "0      112.559       0.211         -1               1       1  112.8211   \n",
       "12     112.455       0.298         -1               1       1  112.8148   \n",
       "17     112.706       0.125          1              -1      -1  112.6935   \n",
       "21     112.999       0.291         -1              -1      -1  112.9699   \n",
       "27     112.877       0.283          1              -1      -1  112.8487   \n",
       "\n",
       "    STOPLOSS  TAKEPROFIT  \n",
       "0   112.7367    112.9899  \n",
       "12  112.6956    113.0532  \n",
       "17  112.7435    112.5935  \n",
       "21  113.0863    112.7371  \n",
       "27  112.9619    112.6223  \n",
       "\n",
       "[5 rows x 26 columns]"
      ]
     },
     "execution_count": 34,
     "metadata": {},
     "output_type": "execute_result"
    }
   ],
   "source": [
    "df[df.SIGNAL!=0].head()"
   ]
  },
  {
   "cell_type": "code",
   "execution_count": 35,
   "metadata": {},
   "outputs": [
    {
     "data": {
      "text/plain": [
       "(4685, 26)"
      ]
     },
     "execution_count": 35,
     "metadata": {},
     "output_type": "execute_result"
    }
   ],
   "source": [
    "df.shape"
   ]
  },
  {
   "cell_type": "code",
   "execution_count": null,
   "metadata": {},
   "outputs": [],
   "source": [
    "\n",
    "\n"
   ]
  },
  {
   "cell_type": "markdown",
   "metadata": {},
   "source": [
    "How to simulate the 4 candle strategy"
   ]
  },
  {
   "cell_type": "code",
   "execution_count": 36,
   "metadata": {},
   "outputs": [],
   "source": [
    "class Trade ():\n",
    "    def __init__(self, row):\n",
    "        self.candle_date = row.time\n",
    "        self.direction = row.SIGNAL\n",
    "        self.entry = row.ENTRY\n",
    "        self.TP = row.TAKEPROFIT\n",
    "        self.SL = row.STOPLOSS\n",
    "        self.running = False\n",
    "        self.result = None\n",
    "        self.stopped = None\n",
    "\n",
    "    def update(self, row):\n",
    "        if self.running == True:\n",
    "            self.update_result(row)\n",
    "        else:\n",
    "            self.check_entry(row)\n",
    "\n",
    "    def check_entry(self, row):\n",
    "        if self.direction == 1 and row.mid_c >= self.entry or self.direction == -1 and row.mid_c <= self.entry:\n",
    "            self.index = row.name\n",
    "            self.opened = row.time\n",
    "            self.running = True\n",
    "\n",
    "    def update_result(self, row):\n",
    "        if self.direction == 1:\n",
    "            if row.mid_c >= self.TP:\n",
    "                self.result = 2.0\n",
    "            elif row.mid_c <= self.SL:\n",
    "                self.result = -1.0\n",
    "        else:\n",
    "            if row.mid_c <= self.TP:\n",
    "                self.result = 2.0\n",
    "            elif row.mid_c >= self.SL:\n",
    "                self.result = -1.0\n",
    "\n",
    "        if self.result is not None:\n",
    "            self.running = False\n",
    "            self.stopped = row.time"
   ]
  },
  {
   "cell_type": "code",
   "execution_count": 37,
   "metadata": {},
   "outputs": [],
   "source": [
    "open_trades = []\n",
    "closed_trades = []\n",
    "\n",
    "for index, row in df.iterrows():\n",
    "    for ot in open_trades:\n",
    "        ot.update(row)\n",
    "        if ot.stopped is not None:\n",
    "            closed_trades.append(ot)\n",
    "    \n",
    "    open_trades = [x for x in open_trades if x.stopped is None]\n",
    "\n",
    "    if row.SIGNAL != 0:\n",
    "        open_trades = [x for x in open_trades if x.running == True]\n",
    "        open_trades.append(Trade(row))"
   ]
  },
  {
   "cell_type": "code",
   "execution_count": 38,
   "metadata": {},
   "outputs": [
    {
     "data": {
      "text/plain": [
       "297"
      ]
     },
     "execution_count": 38,
     "metadata": {},
     "output_type": "execute_result"
    }
   ],
   "source": [
    "len(closed_trades)"
   ]
  },
  {
   "cell_type": "code",
   "execution_count": 39,
   "metadata": {},
   "outputs": [
    {
     "data": {
      "text/html": [
       "<div>\n",
       "<style scoped>\n",
       "    .dataframe tbody tr th:only-of-type {\n",
       "        vertical-align: middle;\n",
       "    }\n",
       "\n",
       "    .dataframe tbody tr th {\n",
       "        vertical-align: top;\n",
       "    }\n",
       "\n",
       "    .dataframe thead th {\n",
       "        text-align: right;\n",
       "    }\n",
       "</style>\n",
       "<table border=\"1\" class=\"dataframe\">\n",
       "  <thead>\n",
       "    <tr style=\"text-align: right;\">\n",
       "      <th></th>\n",
       "      <th>candle_date</th>\n",
       "      <th>direction</th>\n",
       "      <th>entry</th>\n",
       "      <th>TP</th>\n",
       "      <th>SL</th>\n",
       "      <th>running</th>\n",
       "      <th>result</th>\n",
       "      <th>stopped</th>\n",
       "      <th>index</th>\n",
       "      <th>opened</th>\n",
       "    </tr>\n",
       "  </thead>\n",
       "  <tbody>\n",
       "    <tr>\n",
       "      <th>0</th>\n",
       "      <td>2018-01-04 02:00:00+00:00</td>\n",
       "      <td>1</td>\n",
       "      <td>112.8148</td>\n",
       "      <td>113.0532</td>\n",
       "      <td>112.6956</td>\n",
       "      <td>False</td>\n",
       "      <td>2.0</td>\n",
       "      <td>2018-01-05 06:00:00+00:00</td>\n",
       "      <td>14</td>\n",
       "      <td>2018-01-04 10:00:00+00:00</td>\n",
       "    </tr>\n",
       "    <tr>\n",
       "      <th>1</th>\n",
       "      <td>2018-01-05 14:00:00+00:00</td>\n",
       "      <td>-1</td>\n",
       "      <td>112.9699</td>\n",
       "      <td>112.7371</td>\n",
       "      <td>113.0863</td>\n",
       "      <td>False</td>\n",
       "      <td>-1.0</td>\n",
       "      <td>2018-01-08 18:00:00+00:00</td>\n",
       "      <td>26</td>\n",
       "      <td>2018-01-08 10:00:00+00:00</td>\n",
       "    </tr>\n",
       "    <tr>\n",
       "      <th>2</th>\n",
       "      <td>2018-01-08 14:00:00+00:00</td>\n",
       "      <td>-1</td>\n",
       "      <td>112.8487</td>\n",
       "      <td>112.6223</td>\n",
       "      <td>112.9619</td>\n",
       "      <td>False</td>\n",
       "      <td>2.0</td>\n",
       "      <td>2018-01-09 14:00:00+00:00</td>\n",
       "      <td>29</td>\n",
       "      <td>2018-01-08 22:00:00+00:00</td>\n",
       "    </tr>\n",
       "    <tr>\n",
       "      <th>3</th>\n",
       "      <td>2018-01-09 18:00:00+00:00</td>\n",
       "      <td>-1</td>\n",
       "      <td>112.3189</td>\n",
       "      <td>111.9901</td>\n",
       "      <td>112.4833</td>\n",
       "      <td>False</td>\n",
       "      <td>2.0</td>\n",
       "      <td>2018-01-10 06:00:00+00:00</td>\n",
       "      <td>35</td>\n",
       "      <td>2018-01-09 22:00:00+00:00</td>\n",
       "    </tr>\n",
       "    <tr>\n",
       "      <th>4</th>\n",
       "      <td>2018-01-10 02:00:00+00:00</td>\n",
       "      <td>-1</td>\n",
       "      <td>112.0993</td>\n",
       "      <td>111.6057</td>\n",
       "      <td>112.3461</td>\n",
       "      <td>False</td>\n",
       "      <td>2.0</td>\n",
       "      <td>2018-01-10 10:00:00+00:00</td>\n",
       "      <td>37</td>\n",
       "      <td>2018-01-10 06:00:00+00:00</td>\n",
       "    </tr>\n",
       "  </tbody>\n",
       "</table>\n",
       "</div>"
      ],
      "text/plain": [
       "                candle_date  direction     entry        TP        SL  running  \\\n",
       "0 2018-01-04 02:00:00+00:00          1  112.8148  113.0532  112.6956    False   \n",
       "1 2018-01-05 14:00:00+00:00         -1  112.9699  112.7371  113.0863    False   \n",
       "2 2018-01-08 14:00:00+00:00         -1  112.8487  112.6223  112.9619    False   \n",
       "3 2018-01-09 18:00:00+00:00         -1  112.3189  111.9901  112.4833    False   \n",
       "4 2018-01-10 02:00:00+00:00         -1  112.0993  111.6057  112.3461    False   \n",
       "\n",
       "   result                   stopped  index                    opened  \n",
       "0     2.0 2018-01-05 06:00:00+00:00     14 2018-01-04 10:00:00+00:00  \n",
       "1    -1.0 2018-01-08 18:00:00+00:00     26 2018-01-08 10:00:00+00:00  \n",
       "2     2.0 2018-01-09 14:00:00+00:00     29 2018-01-08 22:00:00+00:00  \n",
       "3     2.0 2018-01-10 06:00:00+00:00     35 2018-01-09 22:00:00+00:00  \n",
       "4     2.0 2018-01-10 10:00:00+00:00     37 2018-01-10 06:00:00+00:00  "
      ]
     },
     "execution_count": 39,
     "metadata": {},
     "output_type": "execute_result"
    }
   ],
   "source": [
    "df_trades = pd.DataFrame.from_dict([vars(x) for x in closed_trades])\n",
    "df_trades.head()"
   ]
  },
  {
   "cell_type": "code",
   "execution_count": 40,
   "metadata": {},
   "outputs": [
    {
     "data": {
      "text/html": [
       "<div>\n",
       "<style scoped>\n",
       "    .dataframe tbody tr th:only-of-type {\n",
       "        vertical-align: middle;\n",
       "    }\n",
       "\n",
       "    .dataframe tbody tr th {\n",
       "        vertical-align: top;\n",
       "    }\n",
       "\n",
       "    .dataframe thead th {\n",
       "        text-align: right;\n",
       "    }\n",
       "</style>\n",
       "<table border=\"1\" class=\"dataframe\">\n",
       "  <thead>\n",
       "    <tr style=\"text-align: right;\">\n",
       "      <th></th>\n",
       "      <th>time</th>\n",
       "      <th>volume</th>\n",
       "      <th>mid_o</th>\n",
       "      <th>mid_h</th>\n",
       "      <th>mid_l</th>\n",
       "      <th>mid_c</th>\n",
       "      <th>bid_o</th>\n",
       "      <th>bid_h</th>\n",
       "      <th>bid_l</th>\n",
       "      <th>bid_c</th>\n",
       "      <th>...</th>\n",
       "      <th>mid_l_prev</th>\n",
       "      <th>ask_h_prev</th>\n",
       "      <th>bid_l_prev</th>\n",
       "      <th>RANGE_prev</th>\n",
       "      <th>DIRECTION</th>\n",
       "      <th>DIRECTION_prev</th>\n",
       "      <th>SIGNAL</th>\n",
       "      <th>ENTRY</th>\n",
       "      <th>STOPLOSS</th>\n",
       "      <th>TAKEPROFIT</th>\n",
       "    </tr>\n",
       "  </thead>\n",
       "  <tbody>\n",
       "    <tr>\n",
       "      <th>0</th>\n",
       "      <td>2018-01-02 02:00:00+00:00</td>\n",
       "      <td>1009</td>\n",
       "      <td>112.720</td>\n",
       "      <td>112.751</td>\n",
       "      <td>112.666</td>\n",
       "      <td>112.688</td>\n",
       "      <td>112.712</td>\n",
       "      <td>112.744</td>\n",
       "      <td>112.657</td>\n",
       "      <td>112.683</td>\n",
       "      <td>...</td>\n",
       "      <td>112.582</td>\n",
       "      <td>112.800</td>\n",
       "      <td>112.559</td>\n",
       "      <td>0.211</td>\n",
       "      <td>-1</td>\n",
       "      <td>1</td>\n",
       "      <td>1</td>\n",
       "      <td>112.8211</td>\n",
       "      <td>112.7367</td>\n",
       "      <td>112.9899</td>\n",
       "    </tr>\n",
       "    <tr>\n",
       "      <th>12</th>\n",
       "      <td>2018-01-04 02:00:00+00:00</td>\n",
       "      <td>1560</td>\n",
       "      <td>112.731</td>\n",
       "      <td>112.731</td>\n",
       "      <td>112.618</td>\n",
       "      <td>112.661</td>\n",
       "      <td>112.724</td>\n",
       "      <td>112.724</td>\n",
       "      <td>112.611</td>\n",
       "      <td>112.654</td>\n",
       "      <td>...</td>\n",
       "      <td>112.480</td>\n",
       "      <td>112.785</td>\n",
       "      <td>112.455</td>\n",
       "      <td>0.298</td>\n",
       "      <td>-1</td>\n",
       "      <td>1</td>\n",
       "      <td>1</td>\n",
       "      <td>112.8148</td>\n",
       "      <td>112.6956</td>\n",
       "      <td>113.0532</td>\n",
       "    </tr>\n",
       "    <tr>\n",
       "      <th>17</th>\n",
       "      <td>2018-01-04 22:00:00+00:00</td>\n",
       "      <td>1563</td>\n",
       "      <td>112.750</td>\n",
       "      <td>112.806</td>\n",
       "      <td>112.730</td>\n",
       "      <td>112.774</td>\n",
       "      <td>112.722</td>\n",
       "      <td>112.799</td>\n",
       "      <td>112.708</td>\n",
       "      <td>112.767</td>\n",
       "      <td>...</td>\n",
       "      <td>112.713</td>\n",
       "      <td>112.846</td>\n",
       "      <td>112.706</td>\n",
       "      <td>0.125</td>\n",
       "      <td>1</td>\n",
       "      <td>-1</td>\n",
       "      <td>-1</td>\n",
       "      <td>112.6935</td>\n",
       "      <td>112.7435</td>\n",
       "      <td>112.5935</td>\n",
       "    </tr>\n",
       "    <tr>\n",
       "      <th>21</th>\n",
       "      <td>2018-01-05 14:00:00+00:00</td>\n",
       "      <td>3844</td>\n",
       "      <td>113.213</td>\n",
       "      <td>113.276</td>\n",
       "      <td>113.082</td>\n",
       "      <td>113.160</td>\n",
       "      <td>113.206</td>\n",
       "      <td>113.269</td>\n",
       "      <td>113.076</td>\n",
       "      <td>113.153</td>\n",
       "      <td>...</td>\n",
       "      <td>113.021</td>\n",
       "      <td>113.330</td>\n",
       "      <td>112.999</td>\n",
       "      <td>0.291</td>\n",
       "      <td>-1</td>\n",
       "      <td>-1</td>\n",
       "      <td>-1</td>\n",
       "      <td>112.9699</td>\n",
       "      <td>113.0863</td>\n",
       "      <td>112.7371</td>\n",
       "    </tr>\n",
       "    <tr>\n",
       "      <th>27</th>\n",
       "      <td>2018-01-08 14:00:00+00:00</td>\n",
       "      <td>2537</td>\n",
       "      <td>112.928</td>\n",
       "      <td>113.125</td>\n",
       "      <td>112.904</td>\n",
       "      <td>113.082</td>\n",
       "      <td>112.921</td>\n",
       "      <td>113.119</td>\n",
       "      <td>112.898</td>\n",
       "      <td>113.076</td>\n",
       "      <td>...</td>\n",
       "      <td>112.884</td>\n",
       "      <td>113.173</td>\n",
       "      <td>112.877</td>\n",
       "      <td>0.283</td>\n",
       "      <td>1</td>\n",
       "      <td>-1</td>\n",
       "      <td>-1</td>\n",
       "      <td>112.8487</td>\n",
       "      <td>112.9619</td>\n",
       "      <td>112.6223</td>\n",
       "    </tr>\n",
       "  </tbody>\n",
       "</table>\n",
       "<p>5 rows × 26 columns</p>\n",
       "</div>"
      ],
      "text/plain": [
       "                        time  volume    mid_o    mid_h    mid_l    mid_c  \\\n",
       "0  2018-01-02 02:00:00+00:00    1009  112.720  112.751  112.666  112.688   \n",
       "12 2018-01-04 02:00:00+00:00    1560  112.731  112.731  112.618  112.661   \n",
       "17 2018-01-04 22:00:00+00:00    1563  112.750  112.806  112.730  112.774   \n",
       "21 2018-01-05 14:00:00+00:00    3844  113.213  113.276  113.082  113.160   \n",
       "27 2018-01-08 14:00:00+00:00    2537  112.928  113.125  112.904  113.082   \n",
       "\n",
       "      bid_o    bid_h    bid_l    bid_c  ...  mid_l_prev  ask_h_prev  \\\n",
       "0   112.712  112.744  112.657  112.683  ...     112.582     112.800   \n",
       "12  112.724  112.724  112.611  112.654  ...     112.480     112.785   \n",
       "17  112.722  112.799  112.708  112.767  ...     112.713     112.846   \n",
       "21  113.206  113.269  113.076  113.153  ...     113.021     113.330   \n",
       "27  112.921  113.119  112.898  113.076  ...     112.884     113.173   \n",
       "\n",
       "    bid_l_prev  RANGE_prev  DIRECTION  DIRECTION_prev  SIGNAL     ENTRY  \\\n",
       "0      112.559       0.211         -1               1       1  112.8211   \n",
       "12     112.455       0.298         -1               1       1  112.8148   \n",
       "17     112.706       0.125          1              -1      -1  112.6935   \n",
       "21     112.999       0.291         -1              -1      -1  112.9699   \n",
       "27     112.877       0.283          1              -1      -1  112.8487   \n",
       "\n",
       "    STOPLOSS  TAKEPROFIT  \n",
       "0   112.7367    112.9899  \n",
       "12  112.6956    113.0532  \n",
       "17  112.7435    112.5935  \n",
       "21  113.0863    112.7371  \n",
       "27  112.9619    112.6223  \n",
       "\n",
       "[5 rows x 26 columns]"
      ]
     },
     "execution_count": 40,
     "metadata": {},
     "output_type": "execute_result"
    }
   ],
   "source": [
    "df[df.SIGNAL!=0].head()"
   ]
  },
  {
   "cell_type": "code",
   "execution_count": 41,
   "metadata": {},
   "outputs": [],
   "source": [
    "df[df.SIGNAL!=0].to_pickle(\"USD_JPY_H4_trades.pkl\")"
   ]
  },
  {
   "cell_type": "code",
   "execution_count": 42,
   "metadata": {},
   "outputs": [
    {
     "data": {
      "text/html": [
       "<div>\n",
       "<style scoped>\n",
       "    .dataframe tbody tr th:only-of-type {\n",
       "        vertical-align: middle;\n",
       "    }\n",
       "\n",
       "    .dataframe tbody tr th {\n",
       "        vertical-align: top;\n",
       "    }\n",
       "\n",
       "    .dataframe thead th {\n",
       "        text-align: right;\n",
       "    }\n",
       "</style>\n",
       "<table border=\"1\" class=\"dataframe\">\n",
       "  <thead>\n",
       "    <tr style=\"text-align: right;\">\n",
       "      <th></th>\n",
       "      <th>candle_date</th>\n",
       "      <th>direction</th>\n",
       "      <th>entry</th>\n",
       "      <th>TP</th>\n",
       "      <th>SL</th>\n",
       "      <th>running</th>\n",
       "      <th>result</th>\n",
       "      <th>stopped</th>\n",
       "      <th>index</th>\n",
       "      <th>opened</th>\n",
       "    </tr>\n",
       "  </thead>\n",
       "  <tbody>\n",
       "    <tr>\n",
       "      <th>0</th>\n",
       "      <td>2018-01-04 02:00:00+00:00</td>\n",
       "      <td>1</td>\n",
       "      <td>112.8148</td>\n",
       "      <td>113.0532</td>\n",
       "      <td>112.6956</td>\n",
       "      <td>False</td>\n",
       "      <td>2.0</td>\n",
       "      <td>2018-01-05 06:00:00+00:00</td>\n",
       "      <td>14</td>\n",
       "      <td>2018-01-04 10:00:00+00:00</td>\n",
       "    </tr>\n",
       "    <tr>\n",
       "      <th>1</th>\n",
       "      <td>2018-01-05 14:00:00+00:00</td>\n",
       "      <td>-1</td>\n",
       "      <td>112.9699</td>\n",
       "      <td>112.7371</td>\n",
       "      <td>113.0863</td>\n",
       "      <td>False</td>\n",
       "      <td>-1.0</td>\n",
       "      <td>2018-01-08 18:00:00+00:00</td>\n",
       "      <td>26</td>\n",
       "      <td>2018-01-08 10:00:00+00:00</td>\n",
       "    </tr>\n",
       "    <tr>\n",
       "      <th>2</th>\n",
       "      <td>2018-01-08 14:00:00+00:00</td>\n",
       "      <td>-1</td>\n",
       "      <td>112.8487</td>\n",
       "      <td>112.6223</td>\n",
       "      <td>112.9619</td>\n",
       "      <td>False</td>\n",
       "      <td>2.0</td>\n",
       "      <td>2018-01-09 14:00:00+00:00</td>\n",
       "      <td>29</td>\n",
       "      <td>2018-01-08 22:00:00+00:00</td>\n",
       "    </tr>\n",
       "    <tr>\n",
       "      <th>3</th>\n",
       "      <td>2018-01-09 18:00:00+00:00</td>\n",
       "      <td>-1</td>\n",
       "      <td>112.3189</td>\n",
       "      <td>111.9901</td>\n",
       "      <td>112.4833</td>\n",
       "      <td>False</td>\n",
       "      <td>2.0</td>\n",
       "      <td>2018-01-10 06:00:00+00:00</td>\n",
       "      <td>35</td>\n",
       "      <td>2018-01-09 22:00:00+00:00</td>\n",
       "    </tr>\n",
       "    <tr>\n",
       "      <th>4</th>\n",
       "      <td>2018-01-10 02:00:00+00:00</td>\n",
       "      <td>-1</td>\n",
       "      <td>112.0993</td>\n",
       "      <td>111.6057</td>\n",
       "      <td>112.3461</td>\n",
       "      <td>False</td>\n",
       "      <td>2.0</td>\n",
       "      <td>2018-01-10 10:00:00+00:00</td>\n",
       "      <td>37</td>\n",
       "      <td>2018-01-10 06:00:00+00:00</td>\n",
       "    </tr>\n",
       "  </tbody>\n",
       "</table>\n",
       "</div>"
      ],
      "text/plain": [
       "                candle_date  direction     entry        TP        SL  running  \\\n",
       "0 2018-01-04 02:00:00+00:00          1  112.8148  113.0532  112.6956    False   \n",
       "1 2018-01-05 14:00:00+00:00         -1  112.9699  112.7371  113.0863    False   \n",
       "2 2018-01-08 14:00:00+00:00         -1  112.8487  112.6223  112.9619    False   \n",
       "3 2018-01-09 18:00:00+00:00         -1  112.3189  111.9901  112.4833    False   \n",
       "4 2018-01-10 02:00:00+00:00         -1  112.0993  111.6057  112.3461    False   \n",
       "\n",
       "   result                   stopped  index                    opened  \n",
       "0     2.0 2018-01-05 06:00:00+00:00     14 2018-01-04 10:00:00+00:00  \n",
       "1    -1.0 2018-01-08 18:00:00+00:00     26 2018-01-08 10:00:00+00:00  \n",
       "2     2.0 2018-01-09 14:00:00+00:00     29 2018-01-08 22:00:00+00:00  \n",
       "3     2.0 2018-01-10 06:00:00+00:00     35 2018-01-09 22:00:00+00:00  \n",
       "4     2.0 2018-01-10 10:00:00+00:00     37 2018-01-10 06:00:00+00:00  "
      ]
     },
     "execution_count": 42,
     "metadata": {},
     "output_type": "execute_result"
    }
   ],
   "source": [
    "df_plot = df.iloc[0:60]\n",
    "df_buys = df_plot[df_plot.SIGNAL == 1]\n",
    "df_sells = df_plot[df_plot.SIGNAL == -1]\n",
    "\n",
    "df_trades.head()"
   ]
  },
  {
   "cell_type": "code",
   "execution_count": 43,
   "metadata": {},
   "outputs": [
    {
     "data": {
      "text/plain": [
       "192.0"
      ]
     },
     "execution_count": 43,
     "metadata": {},
     "output_type": "execute_result"
    }
   ],
   "source": [
    "df_trades.result.sum()"
   ]
  },
  {
   "cell_type": "code",
   "execution_count": 44,
   "metadata": {},
   "outputs": [
    {
     "data": {
      "application/vnd.plotly.v1+json": {
       "config": {
        "plotlyServerURL": "https://plot.ly"
       },
       "data": [
        {
         "close": [
          112.688,
          112.252,
          112.124,
          112.285,
          112.291,
          112.319,
          112.28,
          112.3,
          112.23,
          112.334,
          112.509,
          112.728,
          112.661,
          112.546,
          112.828,
          112.768,
          112.75,
          112.774,
          112.998,
          113.226,
          113.215,
          113.16,
          113.057,
          113.131,
          113.23,
          113.162,
          112.93,
          113.082,
          113.092,
          112.661,
          112.698,
          112.875,
          112.634,
          112.584,
          112.648,
          112.175,
          112.36,
          111.761,
          111.58,
          111.49,
          111.434,
          111.602,
          111.812,
          111.624,
          111.536,
          111.346,
          111.264,
          111.331,
          111.246,
          111.11,
          111.637,
          111.235,
          111.046,
          110.739,
          110.705,
          110.559,
          110.549,
          110.429,
          110.537,
          110.8
         ],
         "decreasing": {
          "fillcolor": "#CC2E3C",
          "line": {
           "color": "#FF3A4C"
          }
         },
         "high": [
          112.751,
          112.7,
          112.282,
          112.304,
          112.354,
          112.366,
          112.396,
          112.392,
          112.327,
          112.5,
          112.609,
          112.778,
          112.731,
          112.673,
          112.845,
          112.864,
          112.838,
          112.806,
          113.001,
          113.239,
          113.312,
          113.276,
          113.192,
          113.182,
          113.274,
          113.387,
          113.167,
          113.125,
          113.126,
          113.181,
          112.702,
          112.968,
          112.896,
          112.778,
          112.688,
          112.785,
          112.361,
          112.38,
          111.882,
          111.647,
          111.504,
          111.63,
          111.824,
          111.876,
          111.772,
          111.564,
          111.35,
          111.347,
          111.345,
          111.438,
          111.677,
          111.695,
          111.238,
          111.185,
          110.808,
          110.901,
          110.722,
          110.705,
          110.57,
          110.939
         ],
         "increasing": {
          "fillcolor": "#24A06B",
          "line": {
           "color": "#2EC886"
          }
         },
         "line": {
          "width": 1
         },
         "low": [
          112.666,
          112.249,
          112.086,
          112.058,
          112.244,
          112.174,
          112.266,
          112.24,
          112.198,
          112.195,
          112.301,
          112.48,
          112.618,
          112.491,
          112.529,
          112.75,
          112.713,
          112.73,
          112.725,
          112.984,
          113.021,
          113.082,
          113.032,
          113.028,
          113.114,
          113.119,
          112.884,
          112.904,
          113.026,
          112.592,
          112.499,
          112.64,
          112.493,
          112.367,
          112.522,
          112.168,
          112.178,
          111.718,
          111.27,
          111.296,
          111.29,
          111.32,
          111.502,
          111.577,
          111.392,
          111.322,
          111.046,
          111.065,
          111.182,
          110.999,
          110.97,
          111.155,
          110.916,
          110.65,
          110.579,
          110.524,
          110.538,
          110.341,
          110.33,
          110.476
         ],
         "opacity": 1,
         "open": [
          112.72,
          112.691,
          112.254,
          112.122,
          112.288,
          112.284,
          112.316,
          112.278,
          112.298,
          112.232,
          112.336,
          112.509,
          112.731,
          112.658,
          112.549,
          112.831,
          112.77,
          112.75,
          112.776,
          112.996,
          113.224,
          113.213,
          113.162,
          113.131,
          113.128,
          113.232,
          113.159,
          112.928,
          113.084,
          113.101,
          112.664,
          112.694,
          112.872,
          112.636,
          112.58,
          112.648,
          112.178,
          112.358,
          111.763,
          111.577,
          111.488,
          111.438,
          111.6,
          111.814,
          111.622,
          111.538,
          111.344,
          111.22,
          111.328,
          111.244,
          111.107,
          111.634,
          111.238,
          111.097,
          110.737,
          110.708,
          110.562,
          110.552,
          110.427,
          110.546
         ],
         "type": "candlestick",
         "x": [
          "2018-01-02T02:00:00+00:00",
          "2018-01-02T06:00:00+00:00",
          "2018-01-02T10:00:00+00:00",
          "2018-01-02T14:00:00+00:00",
          "2018-01-02T18:00:00+00:00",
          "2018-01-02T22:00:00+00:00",
          "2018-01-03T02:00:00+00:00",
          "2018-01-03T06:00:00+00:00",
          "2018-01-03T10:00:00+00:00",
          "2018-01-03T14:00:00+00:00",
          "2018-01-03T18:00:00+00:00",
          "2018-01-03T22:00:00+00:00",
          "2018-01-04T02:00:00+00:00",
          "2018-01-04T06:00:00+00:00",
          "2018-01-04T10:00:00+00:00",
          "2018-01-04T14:00:00+00:00",
          "2018-01-04T18:00:00+00:00",
          "2018-01-04T22:00:00+00:00",
          "2018-01-05T02:00:00+00:00",
          "2018-01-05T06:00:00+00:00",
          "2018-01-05T10:00:00+00:00",
          "2018-01-05T14:00:00+00:00",
          "2018-01-05T18:00:00+00:00",
          "2018-01-07T22:00:00+00:00",
          "2018-01-08T02:00:00+00:00",
          "2018-01-08T06:00:00+00:00",
          "2018-01-08T10:00:00+00:00",
          "2018-01-08T14:00:00+00:00",
          "2018-01-08T18:00:00+00:00",
          "2018-01-08T22:00:00+00:00",
          "2018-01-09T02:00:00+00:00",
          "2018-01-09T06:00:00+00:00",
          "2018-01-09T10:00:00+00:00",
          "2018-01-09T14:00:00+00:00",
          "2018-01-09T18:00:00+00:00",
          "2018-01-09T22:00:00+00:00",
          "2018-01-10T02:00:00+00:00",
          "2018-01-10T06:00:00+00:00",
          "2018-01-10T10:00:00+00:00",
          "2018-01-10T14:00:00+00:00",
          "2018-01-10T18:00:00+00:00",
          "2018-01-10T22:00:00+00:00",
          "2018-01-11T02:00:00+00:00",
          "2018-01-11T06:00:00+00:00",
          "2018-01-11T10:00:00+00:00",
          "2018-01-11T14:00:00+00:00",
          "2018-01-11T18:00:00+00:00",
          "2018-01-11T22:00:00+00:00",
          "2018-01-12T02:00:00+00:00",
          "2018-01-12T06:00:00+00:00",
          "2018-01-12T10:00:00+00:00",
          "2018-01-12T14:00:00+00:00",
          "2018-01-12T18:00:00+00:00",
          "2018-01-14T22:00:00+00:00",
          "2018-01-15T02:00:00+00:00",
          "2018-01-15T06:00:00+00:00",
          "2018-01-15T10:00:00+00:00",
          "2018-01-15T14:00:00+00:00",
          "2018-01-15T18:00:00+00:00",
          "2018-01-15T22:00:00+00:00"
         ]
        },
        {
         "marker": {
          "color": "#043ef9",
          "size": 12
         },
         "mode": "markers",
         "type": "scatter",
         "x": [
          "2018-01-02T02:00:00+00:00",
          "2018-01-04T02:00:00+00:00",
          "2018-01-12T02:00:00+00:00"
         ],
         "y": [
          112.8211,
          112.81479999999999,
          111.3822
         ]
        },
        {
         "marker": {
          "color": "#eb5334",
          "size": 12
         },
         "mode": "markers",
         "type": "scatter",
         "x": [
          "2018-01-02T02:00:00+00:00",
          "2018-01-04T02:00:00+00:00",
          "2018-01-12T02:00:00+00:00"
         ],
         "y": [
          112.7367,
          112.69559999999998,
          111.2694
         ]
        },
        {
         "marker": {
          "color": "#34eb37",
          "size": 12
         },
         "mode": "markers",
         "type": "scatter",
         "x": [
          "2018-01-02T02:00:00+00:00",
          "2018-01-04T02:00:00+00:00",
          "2018-01-12T02:00:00+00:00"
         ],
         "y": [
          112.9899,
          113.05319999999999,
          111.6078
         ]
        },
        {
         "marker": {
          "color": "#043ef9",
          "size": 12
         },
         "mode": "markers",
         "type": "scatter",
         "x": [
          "2018-01-04T22:00:00+00:00",
          "2018-01-05T14:00:00+00:00",
          "2018-01-08T14:00:00+00:00",
          "2018-01-09T18:00:00+00:00",
          "2018-01-10T02:00:00+00:00",
          "2018-01-10T14:00:00+00:00",
          "2018-01-11T22:00:00+00:00",
          "2018-01-15T10:00:00+00:00"
         ],
         "y": [
          112.6935,
          112.9699,
          112.8487,
          112.3189,
          112.0993,
          111.2018,
          111.0076,
          110.4793
         ]
        },
        {
         "marker": {
          "color": "#eb5334",
          "size": 12
         },
         "mode": "markers",
         "type": "scatter",
         "x": [
          "2018-01-04T22:00:00+00:00",
          "2018-01-05T14:00:00+00:00",
          "2018-01-08T14:00:00+00:00",
          "2018-01-09T18:00:00+00:00",
          "2018-01-10T02:00:00+00:00",
          "2018-01-10T14:00:00+00:00",
          "2018-01-11T22:00:00+00:00",
          "2018-01-15T10:00:00+00:00"
         ],
         "y": [
          112.7435,
          113.0863,
          112.9619,
          112.4833,
          112.34609999999999,
          111.4466,
          111.1292,
          110.6301
         ]
        },
        {
         "marker": {
          "color": "#34eb37",
          "size": 12
         },
         "mode": "markers",
         "type": "scatter",
         "x": [
          "2018-01-04T22:00:00+00:00",
          "2018-01-05T14:00:00+00:00",
          "2018-01-08T14:00:00+00:00",
          "2018-01-09T18:00:00+00:00",
          "2018-01-10T02:00:00+00:00",
          "2018-01-10T14:00:00+00:00",
          "2018-01-11T22:00:00+00:00",
          "2018-01-15T10:00:00+00:00"
         ],
         "y": [
          112.5935,
          112.7371,
          112.6223,
          111.9901,
          111.60570000000001,
          110.7122,
          110.76440000000001,
          110.1777
         ]
        }
       ],
       "layout": {
        "font": {
         "color": "#e1e1e1",
         "size": 10
        },
        "height": 400,
        "margin": {
         "b": 10,
         "l": 10,
         "r": 10,
         "t": 10
        },
        "paper_bgcolor": "#1e1e1e",
        "plot_bgcolor": "#1e1e1e",
        "template": {
         "data": {
          "bar": [
           {
            "error_x": {
             "color": "#2a3f5f"
            },
            "error_y": {
             "color": "#2a3f5f"
            },
            "marker": {
             "line": {
              "color": "#E5ECF6",
              "width": 0.5
             },
             "pattern": {
              "fillmode": "overlay",
              "size": 10,
              "solidity": 0.2
             }
            },
            "type": "bar"
           }
          ],
          "barpolar": [
           {
            "marker": {
             "line": {
              "color": "#E5ECF6",
              "width": 0.5
             },
             "pattern": {
              "fillmode": "overlay",
              "size": 10,
              "solidity": 0.2
             }
            },
            "type": "barpolar"
           }
          ],
          "carpet": [
           {
            "aaxis": {
             "endlinecolor": "#2a3f5f",
             "gridcolor": "white",
             "linecolor": "white",
             "minorgridcolor": "white",
             "startlinecolor": "#2a3f5f"
            },
            "baxis": {
             "endlinecolor": "#2a3f5f",
             "gridcolor": "white",
             "linecolor": "white",
             "minorgridcolor": "white",
             "startlinecolor": "#2a3f5f"
            },
            "type": "carpet"
           }
          ],
          "choropleth": [
           {
            "colorbar": {
             "outlinewidth": 0,
             "ticks": ""
            },
            "type": "choropleth"
           }
          ],
          "contour": [
           {
            "colorbar": {
             "outlinewidth": 0,
             "ticks": ""
            },
            "colorscale": [
             [
              0,
              "#0d0887"
             ],
             [
              0.1111111111111111,
              "#46039f"
             ],
             [
              0.2222222222222222,
              "#7201a8"
             ],
             [
              0.3333333333333333,
              "#9c179e"
             ],
             [
              0.4444444444444444,
              "#bd3786"
             ],
             [
              0.5555555555555556,
              "#d8576b"
             ],
             [
              0.6666666666666666,
              "#ed7953"
             ],
             [
              0.7777777777777778,
              "#fb9f3a"
             ],
             [
              0.8888888888888888,
              "#fdca26"
             ],
             [
              1,
              "#f0f921"
             ]
            ],
            "type": "contour"
           }
          ],
          "contourcarpet": [
           {
            "colorbar": {
             "outlinewidth": 0,
             "ticks": ""
            },
            "type": "contourcarpet"
           }
          ],
          "heatmap": [
           {
            "colorbar": {
             "outlinewidth": 0,
             "ticks": ""
            },
            "colorscale": [
             [
              0,
              "#0d0887"
             ],
             [
              0.1111111111111111,
              "#46039f"
             ],
             [
              0.2222222222222222,
              "#7201a8"
             ],
             [
              0.3333333333333333,
              "#9c179e"
             ],
             [
              0.4444444444444444,
              "#bd3786"
             ],
             [
              0.5555555555555556,
              "#d8576b"
             ],
             [
              0.6666666666666666,
              "#ed7953"
             ],
             [
              0.7777777777777778,
              "#fb9f3a"
             ],
             [
              0.8888888888888888,
              "#fdca26"
             ],
             [
              1,
              "#f0f921"
             ]
            ],
            "type": "heatmap"
           }
          ],
          "heatmapgl": [
           {
            "colorbar": {
             "outlinewidth": 0,
             "ticks": ""
            },
            "colorscale": [
             [
              0,
              "#0d0887"
             ],
             [
              0.1111111111111111,
              "#46039f"
             ],
             [
              0.2222222222222222,
              "#7201a8"
             ],
             [
              0.3333333333333333,
              "#9c179e"
             ],
             [
              0.4444444444444444,
              "#bd3786"
             ],
             [
              0.5555555555555556,
              "#d8576b"
             ],
             [
              0.6666666666666666,
              "#ed7953"
             ],
             [
              0.7777777777777778,
              "#fb9f3a"
             ],
             [
              0.8888888888888888,
              "#fdca26"
             ],
             [
              1,
              "#f0f921"
             ]
            ],
            "type": "heatmapgl"
           }
          ],
          "histogram": [
           {
            "marker": {
             "pattern": {
              "fillmode": "overlay",
              "size": 10,
              "solidity": 0.2
             }
            },
            "type": "histogram"
           }
          ],
          "histogram2d": [
           {
            "colorbar": {
             "outlinewidth": 0,
             "ticks": ""
            },
            "colorscale": [
             [
              0,
              "#0d0887"
             ],
             [
              0.1111111111111111,
              "#46039f"
             ],
             [
              0.2222222222222222,
              "#7201a8"
             ],
             [
              0.3333333333333333,
              "#9c179e"
             ],
             [
              0.4444444444444444,
              "#bd3786"
             ],
             [
              0.5555555555555556,
              "#d8576b"
             ],
             [
              0.6666666666666666,
              "#ed7953"
             ],
             [
              0.7777777777777778,
              "#fb9f3a"
             ],
             [
              0.8888888888888888,
              "#fdca26"
             ],
             [
              1,
              "#f0f921"
             ]
            ],
            "type": "histogram2d"
           }
          ],
          "histogram2dcontour": [
           {
            "colorbar": {
             "outlinewidth": 0,
             "ticks": ""
            },
            "colorscale": [
             [
              0,
              "#0d0887"
             ],
             [
              0.1111111111111111,
              "#46039f"
             ],
             [
              0.2222222222222222,
              "#7201a8"
             ],
             [
              0.3333333333333333,
              "#9c179e"
             ],
             [
              0.4444444444444444,
              "#bd3786"
             ],
             [
              0.5555555555555556,
              "#d8576b"
             ],
             [
              0.6666666666666666,
              "#ed7953"
             ],
             [
              0.7777777777777778,
              "#fb9f3a"
             ],
             [
              0.8888888888888888,
              "#fdca26"
             ],
             [
              1,
              "#f0f921"
             ]
            ],
            "type": "histogram2dcontour"
           }
          ],
          "mesh3d": [
           {
            "colorbar": {
             "outlinewidth": 0,
             "ticks": ""
            },
            "type": "mesh3d"
           }
          ],
          "parcoords": [
           {
            "line": {
             "colorbar": {
              "outlinewidth": 0,
              "ticks": ""
             }
            },
            "type": "parcoords"
           }
          ],
          "pie": [
           {
            "automargin": true,
            "type": "pie"
           }
          ],
          "scatter": [
           {
            "marker": {
             "colorbar": {
              "outlinewidth": 0,
              "ticks": ""
             }
            },
            "type": "scatter"
           }
          ],
          "scatter3d": [
           {
            "line": {
             "colorbar": {
              "outlinewidth": 0,
              "ticks": ""
             }
            },
            "marker": {
             "colorbar": {
              "outlinewidth": 0,
              "ticks": ""
             }
            },
            "type": "scatter3d"
           }
          ],
          "scattercarpet": [
           {
            "marker": {
             "colorbar": {
              "outlinewidth": 0,
              "ticks": ""
             }
            },
            "type": "scattercarpet"
           }
          ],
          "scattergeo": [
           {
            "marker": {
             "colorbar": {
              "outlinewidth": 0,
              "ticks": ""
             }
            },
            "type": "scattergeo"
           }
          ],
          "scattergl": [
           {
            "marker": {
             "colorbar": {
              "outlinewidth": 0,
              "ticks": ""
             }
            },
            "type": "scattergl"
           }
          ],
          "scattermapbox": [
           {
            "marker": {
             "colorbar": {
              "outlinewidth": 0,
              "ticks": ""
             }
            },
            "type": "scattermapbox"
           }
          ],
          "scatterpolar": [
           {
            "marker": {
             "colorbar": {
              "outlinewidth": 0,
              "ticks": ""
             }
            },
            "type": "scatterpolar"
           }
          ],
          "scatterpolargl": [
           {
            "marker": {
             "colorbar": {
              "outlinewidth": 0,
              "ticks": ""
             }
            },
            "type": "scatterpolargl"
           }
          ],
          "scatterternary": [
           {
            "marker": {
             "colorbar": {
              "outlinewidth": 0,
              "ticks": ""
             }
            },
            "type": "scatterternary"
           }
          ],
          "surface": [
           {
            "colorbar": {
             "outlinewidth": 0,
             "ticks": ""
            },
            "colorscale": [
             [
              0,
              "#0d0887"
             ],
             [
              0.1111111111111111,
              "#46039f"
             ],
             [
              0.2222222222222222,
              "#7201a8"
             ],
             [
              0.3333333333333333,
              "#9c179e"
             ],
             [
              0.4444444444444444,
              "#bd3786"
             ],
             [
              0.5555555555555556,
              "#d8576b"
             ],
             [
              0.6666666666666666,
              "#ed7953"
             ],
             [
              0.7777777777777778,
              "#fb9f3a"
             ],
             [
              0.8888888888888888,
              "#fdca26"
             ],
             [
              1,
              "#f0f921"
             ]
            ],
            "type": "surface"
           }
          ],
          "table": [
           {
            "cells": {
             "fill": {
              "color": "#EBF0F8"
             },
             "line": {
              "color": "white"
             }
            },
            "header": {
             "fill": {
              "color": "#C8D4E3"
             },
             "line": {
              "color": "white"
             }
            },
            "type": "table"
           }
          ]
         },
         "layout": {
          "annotationdefaults": {
           "arrowcolor": "#2a3f5f",
           "arrowhead": 0,
           "arrowwidth": 1
          },
          "autotypenumbers": "strict",
          "coloraxis": {
           "colorbar": {
            "outlinewidth": 0,
            "ticks": ""
           }
          },
          "colorscale": {
           "diverging": [
            [
             0,
             "#8e0152"
            ],
            [
             0.1,
             "#c51b7d"
            ],
            [
             0.2,
             "#de77ae"
            ],
            [
             0.3,
             "#f1b6da"
            ],
            [
             0.4,
             "#fde0ef"
            ],
            [
             0.5,
             "#f7f7f7"
            ],
            [
             0.6,
             "#e6f5d0"
            ],
            [
             0.7,
             "#b8e186"
            ],
            [
             0.8,
             "#7fbc41"
            ],
            [
             0.9,
             "#4d9221"
            ],
            [
             1,
             "#276419"
            ]
           ],
           "sequential": [
            [
             0,
             "#0d0887"
            ],
            [
             0.1111111111111111,
             "#46039f"
            ],
            [
             0.2222222222222222,
             "#7201a8"
            ],
            [
             0.3333333333333333,
             "#9c179e"
            ],
            [
             0.4444444444444444,
             "#bd3786"
            ],
            [
             0.5555555555555556,
             "#d8576b"
            ],
            [
             0.6666666666666666,
             "#ed7953"
            ],
            [
             0.7777777777777778,
             "#fb9f3a"
            ],
            [
             0.8888888888888888,
             "#fdca26"
            ],
            [
             1,
             "#f0f921"
            ]
           ],
           "sequentialminus": [
            [
             0,
             "#0d0887"
            ],
            [
             0.1111111111111111,
             "#46039f"
            ],
            [
             0.2222222222222222,
             "#7201a8"
            ],
            [
             0.3333333333333333,
             "#9c179e"
            ],
            [
             0.4444444444444444,
             "#bd3786"
            ],
            [
             0.5555555555555556,
             "#d8576b"
            ],
            [
             0.6666666666666666,
             "#ed7953"
            ],
            [
             0.7777777777777778,
             "#fb9f3a"
            ],
            [
             0.8888888888888888,
             "#fdca26"
            ],
            [
             1,
             "#f0f921"
            ]
           ]
          },
          "colorway": [
           "#636efa",
           "#EF553B",
           "#00cc96",
           "#ab63fa",
           "#FFA15A",
           "#19d3f3",
           "#FF6692",
           "#B6E880",
           "#FF97FF",
           "#FECB52"
          ],
          "font": {
           "color": "#2a3f5f"
          },
          "geo": {
           "bgcolor": "white",
           "lakecolor": "white",
           "landcolor": "#E5ECF6",
           "showlakes": true,
           "showland": true,
           "subunitcolor": "white"
          },
          "hoverlabel": {
           "align": "left"
          },
          "hovermode": "closest",
          "mapbox": {
           "style": "light"
          },
          "paper_bgcolor": "white",
          "plot_bgcolor": "#E5ECF6",
          "polar": {
           "angularaxis": {
            "gridcolor": "white",
            "linecolor": "white",
            "ticks": ""
           },
           "bgcolor": "#E5ECF6",
           "radialaxis": {
            "gridcolor": "white",
            "linecolor": "white",
            "ticks": ""
           }
          },
          "scene": {
           "xaxis": {
            "backgroundcolor": "#E5ECF6",
            "gridcolor": "white",
            "gridwidth": 2,
            "linecolor": "white",
            "showbackground": true,
            "ticks": "",
            "zerolinecolor": "white"
           },
           "yaxis": {
            "backgroundcolor": "#E5ECF6",
            "gridcolor": "white",
            "gridwidth": 2,
            "linecolor": "white",
            "showbackground": true,
            "ticks": "",
            "zerolinecolor": "white"
           },
           "zaxis": {
            "backgroundcolor": "#E5ECF6",
            "gridcolor": "white",
            "gridwidth": 2,
            "linecolor": "white",
            "showbackground": true,
            "ticks": "",
            "zerolinecolor": "white"
           }
          },
          "shapedefaults": {
           "line": {
            "color": "#2a3f5f"
           }
          },
          "ternary": {
           "aaxis": {
            "gridcolor": "white",
            "linecolor": "white",
            "ticks": ""
           },
           "baxis": {
            "gridcolor": "white",
            "linecolor": "white",
            "ticks": ""
           },
           "bgcolor": "#E5ECF6",
           "caxis": {
            "gridcolor": "white",
            "linecolor": "white",
            "ticks": ""
           }
          },
          "title": {
           "x": 0.05
          },
          "xaxis": {
           "automargin": true,
           "gridcolor": "white",
           "linecolor": "white",
           "ticks": "",
           "title": {
            "standoff": 15
           },
           "zerolinecolor": "white",
           "zerolinewidth": 2
          },
          "yaxis": {
           "automargin": true,
           "gridcolor": "white",
           "linecolor": "white",
           "ticks": "",
           "title": {
            "standoff": 15
           },
           "zerolinecolor": "white",
           "zerolinewidth": 2
          }
         }
        },
        "width": 1000,
        "xaxis": {
         "fixedrange": true,
         "gridcolor": "#1f292f",
         "rangebreaks": [
          {
           "bounds": [
            "sat",
            "mon"
           ]
          }
         ],
         "rangeslider": {
          "visible": false
         },
         "showgrid": true
        },
        "yaxis": {
         "gridcolor": "#1f292f",
         "showgrid": true
        }
       }
      }
     },
     "metadata": {},
     "output_type": "display_data"
    }
   ],
   "source": [
    "plot_candles(df_plot)"
   ]
  },
  {
   "cell_type": "code",
   "execution_count": null,
   "metadata": {},
   "outputs": [],
   "source": []
  },
  {
   "cell_type": "code",
   "execution_count": null,
   "metadata": {},
   "outputs": [],
   "source": []
  }
 ],
 "metadata": {
  "interpreter": {
   "hash": "31929411b538e7e8805f5fd4edee4e5f3f6934ca80a60812a6992fcaa7d06445"
  },
  "kernelspec": {
   "display_name": "Python 3.9.10 64-bit ('venv': venv)",
   "language": "python",
   "name": "python3"
  },
  "language_info": {
   "codemirror_mode": {
    "name": "ipython",
    "version": 3
   },
   "file_extension": ".py",
   "mimetype": "text/x-python",
   "name": "python",
   "nbconvert_exporter": "python",
   "pygments_lexer": "ipython3",
   "version": "3.9.10"
  },
  "orig_nbformat": 4
 },
 "nbformat": 4,
 "nbformat_minor": 2
}
