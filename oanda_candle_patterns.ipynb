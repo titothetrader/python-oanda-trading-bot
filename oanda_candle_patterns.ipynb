{
 "cells": [
  {
   "cell_type": "code",
   "execution_count": 127,
   "metadata": {},
   "outputs": [],
   "source": [
    "import pandas as pd\n",
    "import oanda_utils\n",
    "import plotly.graph_objects as go"
   ]
  },
  {
   "cell_type": "code",
   "execution_count": 128,
   "metadata": {},
   "outputs": [],
   "source": [
    "def plot_candles(df_plot, df_markers=None):\n",
    "    fig = go.Figure()\n",
    "\n",
    "    fig.add_trace(go.Candlestick(\n",
    "        x=df_plot.time, open=df_plot.mid_o, high=df_plot.mid_h, low=df_plot.mid_l, close=df_plot.mid_c, line=dict(width=1), opacity=1,\n",
    "        increasing_fillcolor='#24A06B',\n",
    "        decreasing_fillcolor='#CC2E3C',\n",
    "        increasing_line_color='#2EC886',\n",
    "        decreasing_line_color='#FF3A4C'\n",
    "    ))\n",
    "\n",
    "    if df_markers is not None:\n",
    "        fig.add_trace(go.Candlestick(\n",
    "            x=df_markers.time, open=df_markers.mid_o, high=df_markers.mid_h, low=df_markers.mid_l, close=df_markers.mid_c, line=dict(width=1), opacity=1,\n",
    "            increasing_fillcolor='#3480eb',\n",
    "            decreasing_fillcolor='#3480eb',\n",
    "            increasing_line_color='#3480eb',\n",
    "            decreasing_line_color='#3480eb'\n",
    "        ))\n",
    "\n",
    "    fig.update_layout(width=1000, height=400, margin=dict(l=10,r=10,b=10,t=10), font=dict(size=10, color='#e1e1e1'), paper_bgcolor='#1e1e1e', plot_bgcolor='#1e1e1e')\n",
    "    fig.update_xaxes(\n",
    "        gridcolor='#1F292F', showgrid=True, fixedrange=True, rangeslider=dict(visible=False),\n",
    "        rangebreaks=[\n",
    "            dict(bounds=[\"sat\", \"mon\"])\n",
    "        ]\n",
    "    )\n",
    "    fig.update_yaxes(\n",
    "        gridcolor='#1F292F', \n",
    "        showgrid=True\n",
    "    )\n",
    "    fig.show()"
   ]
  },
  {
   "cell_type": "code",
   "execution_count": 129,
   "metadata": {},
   "outputs": [],
   "source": [
    "pair = \"USD_JPY\"\n",
    "granularity = \"H4\"\n",
    "df_raw = pd.read_pickle(oanda_utils.get_his_data_filename(pair, granularity))"
   ]
  },
  {
   "cell_type": "code",
   "execution_count": 130,
   "metadata": {},
   "outputs": [],
   "source": [
    "cols = ['time', 'mid_o', 'mid_h', 'mid_l', 'mid_c']"
   ]
  },
  {
   "cell_type": "code",
   "execution_count": 131,
   "metadata": {},
   "outputs": [
    {
     "data": {
      "text/html": [
       "<div>\n",
       "<style scoped>\n",
       "    .dataframe tbody tr th:only-of-type {\n",
       "        vertical-align: middle;\n",
       "    }\n",
       "\n",
       "    .dataframe tbody tr th {\n",
       "        vertical-align: top;\n",
       "    }\n",
       "\n",
       "    .dataframe thead th {\n",
       "        text-align: right;\n",
       "    }\n",
       "</style>\n",
       "<table border=\"1\" class=\"dataframe\">\n",
       "  <thead>\n",
       "    <tr style=\"text-align: right;\">\n",
       "      <th></th>\n",
       "      <th>time</th>\n",
       "      <th>mid_o</th>\n",
       "      <th>mid_h</th>\n",
       "      <th>mid_l</th>\n",
       "      <th>mid_c</th>\n",
       "      <th>RANGE</th>\n",
       "      <th>BODY_RANGE</th>\n",
       "      <th>CENTER</th>\n",
       "      <th>BODY_PERC</th>\n",
       "      <th>DIRECTION</th>\n",
       "      <th>...</th>\n",
       "      <th>DIST_TOP_PERC</th>\n",
       "      <th>DIST_BOTTOM_PERC</th>\n",
       "      <th>PREV_BODY_RANGE</th>\n",
       "      <th>PREV_BODY_PERC</th>\n",
       "      <th>PREV_DIRECTION</th>\n",
       "      <th>HAMMER</th>\n",
       "      <th>SPINNING_TOP</th>\n",
       "      <th>DOJI</th>\n",
       "      <th>MARUBOZU</th>\n",
       "      <th>ENGULFING</th>\n",
       "    </tr>\n",
       "  </thead>\n",
       "  <tbody>\n",
       "    <tr>\n",
       "      <th>3</th>\n",
       "      <td>2018-01-02 02:00:00+00:00</td>\n",
       "      <td>112.720</td>\n",
       "      <td>112.751</td>\n",
       "      <td>112.666</td>\n",
       "      <td>112.688</td>\n",
       "      <td>0.085</td>\n",
       "      <td>0.032</td>\n",
       "      <td>112.7085</td>\n",
       "      <td>0.376471</td>\n",
       "      <td>-1</td>\n",
       "      <td>...</td>\n",
       "      <td>0.258824</td>\n",
       "      <td>0.258824</td>\n",
       "      <td>0.057</td>\n",
       "      <td>0.270142</td>\n",
       "      <td>1.0</td>\n",
       "      <td>False</td>\n",
       "      <td>False</td>\n",
       "      <td>False</td>\n",
       "      <td>False</td>\n",
       "      <td>False</td>\n",
       "    </tr>\n",
       "    <tr>\n",
       "      <th>6</th>\n",
       "      <td>2018-01-02 06:00:00+00:00</td>\n",
       "      <td>112.691</td>\n",
       "      <td>112.700</td>\n",
       "      <td>112.249</td>\n",
       "      <td>112.252</td>\n",
       "      <td>0.451</td>\n",
       "      <td>0.439</td>\n",
       "      <td>112.4745</td>\n",
       "      <td>0.973392</td>\n",
       "      <td>-1</td>\n",
       "      <td>...</td>\n",
       "      <td>0.006652</td>\n",
       "      <td>0.006652</td>\n",
       "      <td>0.032</td>\n",
       "      <td>0.376471</td>\n",
       "      <td>-1.0</td>\n",
       "      <td>False</td>\n",
       "      <td>False</td>\n",
       "      <td>False</td>\n",
       "      <td>True</td>\n",
       "      <td>False</td>\n",
       "    </tr>\n",
       "    <tr>\n",
       "      <th>9</th>\n",
       "      <td>2018-01-02 10:00:00+00:00</td>\n",
       "      <td>112.254</td>\n",
       "      <td>112.282</td>\n",
       "      <td>112.086</td>\n",
       "      <td>112.124</td>\n",
       "      <td>0.196</td>\n",
       "      <td>0.130</td>\n",
       "      <td>112.1840</td>\n",
       "      <td>0.663265</td>\n",
       "      <td>-1</td>\n",
       "      <td>...</td>\n",
       "      <td>0.193878</td>\n",
       "      <td>0.193878</td>\n",
       "      <td>0.439</td>\n",
       "      <td>0.973392</td>\n",
       "      <td>-1.0</td>\n",
       "      <td>False</td>\n",
       "      <td>False</td>\n",
       "      <td>False</td>\n",
       "      <td>False</td>\n",
       "      <td>False</td>\n",
       "    </tr>\n",
       "    <tr>\n",
       "      <th>12</th>\n",
       "      <td>2018-01-02 14:00:00+00:00</td>\n",
       "      <td>112.122</td>\n",
       "      <td>112.304</td>\n",
       "      <td>112.058</td>\n",
       "      <td>112.285</td>\n",
       "      <td>0.246</td>\n",
       "      <td>0.163</td>\n",
       "      <td>112.1810</td>\n",
       "      <td>0.662602</td>\n",
       "      <td>1</td>\n",
       "      <td>...</td>\n",
       "      <td>0.077236</td>\n",
       "      <td>0.260163</td>\n",
       "      <td>0.130</td>\n",
       "      <td>0.663265</td>\n",
       "      <td>-1.0</td>\n",
       "      <td>False</td>\n",
       "      <td>False</td>\n",
       "      <td>False</td>\n",
       "      <td>False</td>\n",
       "      <td>True</td>\n",
       "    </tr>\n",
       "    <tr>\n",
       "      <th>15</th>\n",
       "      <td>2018-01-02 18:00:00+00:00</td>\n",
       "      <td>112.288</td>\n",
       "      <td>112.354</td>\n",
       "      <td>112.244</td>\n",
       "      <td>112.291</td>\n",
       "      <td>0.110</td>\n",
       "      <td>0.003</td>\n",
       "      <td>112.2990</td>\n",
       "      <td>0.027273</td>\n",
       "      <td>1</td>\n",
       "      <td>...</td>\n",
       "      <td>0.572727</td>\n",
       "      <td>0.400000</td>\n",
       "      <td>0.163</td>\n",
       "      <td>0.662602</td>\n",
       "      <td>1.0</td>\n",
       "      <td>False</td>\n",
       "      <td>False</td>\n",
       "      <td>True</td>\n",
       "      <td>False</td>\n",
       "      <td>False</td>\n",
       "    </tr>\n",
       "  </tbody>\n",
       "</table>\n",
       "<p>5 rows × 22 columns</p>\n",
       "</div>"
      ],
      "text/plain": [
       "                        time    mid_o    mid_h    mid_l    mid_c  RANGE  \\\n",
       "3  2018-01-02 02:00:00+00:00  112.720  112.751  112.666  112.688  0.085   \n",
       "6  2018-01-02 06:00:00+00:00  112.691  112.700  112.249  112.252  0.451   \n",
       "9  2018-01-02 10:00:00+00:00  112.254  112.282  112.086  112.124  0.196   \n",
       "12 2018-01-02 14:00:00+00:00  112.122  112.304  112.058  112.285  0.246   \n",
       "15 2018-01-02 18:00:00+00:00  112.288  112.354  112.244  112.291  0.110   \n",
       "\n",
       "    BODY_RANGE    CENTER  BODY_PERC  DIRECTION  ...  DIST_TOP_PERC  \\\n",
       "3        0.032  112.7085   0.376471         -1  ...       0.258824   \n",
       "6        0.439  112.4745   0.973392         -1  ...       0.006652   \n",
       "9        0.130  112.1840   0.663265         -1  ...       0.193878   \n",
       "12       0.163  112.1810   0.662602          1  ...       0.077236   \n",
       "15       0.003  112.2990   0.027273          1  ...       0.572727   \n",
       "\n",
       "    DIST_BOTTOM_PERC  PREV_BODY_RANGE  PREV_BODY_PERC  PREV_DIRECTION  HAMMER  \\\n",
       "3           0.258824            0.057        0.270142             1.0   False   \n",
       "6           0.006652            0.032        0.376471            -1.0   False   \n",
       "9           0.193878            0.439        0.973392            -1.0   False   \n",
       "12          0.260163            0.130        0.663265            -1.0   False   \n",
       "15          0.400000            0.163        0.662602             1.0   False   \n",
       "\n",
       "    SPINNING_TOP   DOJI  MARUBOZU  ENGULFING  \n",
       "3          False  False     False      False  \n",
       "6          False  False      True      False  \n",
       "9          False  False     False      False  \n",
       "12         False  False     False       True  \n",
       "15         False   True     False      False  \n",
       "\n",
       "[5 rows x 22 columns]"
      ]
     },
     "execution_count": 131,
     "metadata": {},
     "output_type": "execute_result"
    }
   ],
   "source": [
    "df.head()"
   ]
  },
  {
   "cell_type": "code",
   "execution_count": 132,
   "metadata": {},
   "outputs": [
    {
     "name": "stdout",
     "output_type": "stream",
     "text": [
      "<class 'pandas.core.frame.DataFrame'>\n",
      "Int64Index: 4655 entries, 3 to 1224\n",
      "Data columns (total 22 columns):\n",
      " #   Column            Non-Null Count  Dtype                  \n",
      "---  ------            --------------  -----                  \n",
      " 0   time              4655 non-null   datetime64[ns, tzutc()]\n",
      " 1   mid_o             4655 non-null   float64                \n",
      " 2   mid_h             4655 non-null   float64                \n",
      " 3   mid_l             4655 non-null   float64                \n",
      " 4   mid_c             4655 non-null   float64                \n",
      " 5   RANGE             4655 non-null   float64                \n",
      " 6   BODY_RANGE        4655 non-null   float64                \n",
      " 7   CENTER            4655 non-null   float64                \n",
      " 8   BODY_PERC         4655 non-null   float64                \n",
      " 9   DIRECTION         4655 non-null   int64                  \n",
      " 10  DIST_TOP          4655 non-null   float64                \n",
      " 11  DIST_BOTTOM       4655 non-null   float64                \n",
      " 12  DIST_TOP_PERC     4655 non-null   float64                \n",
      " 13  DIST_BOTTOM_PERC  4655 non-null   float64                \n",
      " 14  PREV_BODY_RANGE   4655 non-null   float64                \n",
      " 15  PREV_BODY_PERC    4655 non-null   float64                \n",
      " 16  PREV_DIRECTION    4655 non-null   float64                \n",
      " 17  HAMMER            4655 non-null   bool                   \n",
      " 18  SPINNING_TOP      4655 non-null   bool                   \n",
      " 19  DOJI              4655 non-null   bool                   \n",
      " 20  MARUBOZU          4655 non-null   bool                   \n",
      " 21  ENGULFING         4655 non-null   bool                   \n",
      "dtypes: bool(5), datetime64[ns, tzutc()](1), float64(15), int64(1)\n",
      "memory usage: 677.3 KB\n"
     ]
    }
   ],
   "source": [
    "df.info()"
   ]
  },
  {
   "cell_type": "code",
   "execution_count": 133,
   "metadata": {},
   "outputs": [],
   "source": [
    "SMALL_BODY = 0.2\n",
    "CLOSE_DISTANCE = 0.15\n",
    "DOJI_BODY = 0.05\n",
    "FULL_BODY = 0.95\n",
    "CENTER_DISTANCE_HIGH = 0.55\n",
    "CENTER_DISTANCE_LOW = 0.45\n",
    "BIG_BODY = 0.6\n",
    "ENGULFING_FACTOR = 1.1\n",
    "\n",
    "\n",
    "def apply_top_end_distance(row):\n",
    "    if row.DIRECTION == 1:\n",
    "        return row.mid_h - row.mid_c\n",
    "    else:\n",
    "        return row.mid_c - row.mid_l\n",
    "\n",
    "def apply_bottom_end_distance(row):\n",
    "    if row.DIRECTION == 1:\n",
    "        return row.mid_o - row.mid_l\n",
    "    else:\n",
    "        return row.mid_c - row.mid_l\n",
    "\n",
    "def apply_hammer(row):\n",
    "    if row.BODY_PERC < SMALL_BODY:\n",
    "        if row.DIST_TOP_PERC < CLOSE_DISTANCE or row.DIST_BOTTOM_PERC < CLOSE_DISTANCE:\n",
    "            return True\n",
    "    return False\n",
    "\n",
    "def apply_spinning_top(row):\n",
    "    if row.BODY_PERC < SMALL_BODY:\n",
    "        if row.DIST_TOP_PERC < CENTER_DISTANCE_HIGH and row.DIST_TOP_PERC > CENTER_DISTANCE_LOW:\n",
    "            return True\n",
    "    return False\n",
    "\n",
    "def apply_engulfing(row):\n",
    "    if row.PREV_DIRECTION != row.DIRECTION:\n",
    "        if row.PREV_BODY_PERC > BIG_BODY and row.BODY_PERC > BIG_BODY:\n",
    "            if row.BODY_RANGE > row.PREV_BODY_RANGE * ENGULFING_FACTOR:\n",
    "                return True\n",
    "    return False\n",
    "\n",
    "def apply_stats(df):\n",
    "    df['RANGE'] = df.mid_h - df.mid_l\n",
    "    df['BODY_RANGE'] = abs(df.mid_c - df.mid_o)\n",
    "    df['CENTER'] = (df.mid_h - df.mid_l) / 2 + df.mid_l\n",
    "    df['BODY_PERC'] = df.BODY_RANGE / df.RANGE\n",
    "    df['DIRECTION'] = df.mid_c - df.mid_o\n",
    "    df['DIRECTION'] = df['DIRECTION'].apply(lambda x: 1 if x>= 0 else -1)\n",
    "    df['DIST_TOP'] = df.apply(apply_top_end_distance, axis=1)\n",
    "    df['DIST_BOTTOM'] = df.apply(apply_bottom_end_distance, axis=1)\n",
    "    df['DIST_TOP_PERC'] = df.DIST_TOP / df.RANGE\n",
    "    df['DIST_BOTTOM_PERC'] = df.DIST_BOTTOM / df.RANGE\n",
    "\n",
    "    df['PREV_BODY_RANGE'] = df.BODY_RANGE.shift(1)\n",
    "    df['PREV_BODY_PERC'] = df.BODY_PERC.shift(1)\n",
    "    df['PREV_DIRECTION'] = df.DIRECTION.shift(1)\n",
    "\n",
    "    df.dropna(inplace=True)\n",
    "\n",
    "    return df\n",
    "\n",
    "def apply_patterns(df):\n",
    "    df['HAMMER'] = df.apply(apply_hammer, axis=1)\n",
    "    df['SPINNING_TOP'] = df.apply(apply_spinning_top, axis=1)\n",
    "    df['DOJI'] = df['BODY_PERC'].apply(lambda x: True if x < DOJI_BODY else False)\n",
    "    df['MARUBOZU'] = df['BODY_PERC'].apply(lambda x: True if x > FULL_BODY else False)\n",
    "    df['ENGULFING'] = df.apply(apply_engulfing, axis=1)\n",
    "    return df"
   ]
  },
  {
   "cell_type": "markdown",
   "metadata": {},
   "source": [
    "The LAMBDA function is like declaring a mini insta-function. A similar function could be writen as:\n",
    "\n",
    "def function_f(x):\n",
    "    if x >= 0: \n",
    "        return 1\n",
    "    else:\n",
    "        return -1"
   ]
  },
  {
   "cell_type": "code",
   "execution_count": 134,
   "metadata": {},
   "outputs": [
    {
     "data": {
      "text/html": [
       "<div>\n",
       "<style scoped>\n",
       "    .dataframe tbody tr th:only-of-type {\n",
       "        vertical-align: middle;\n",
       "    }\n",
       "\n",
       "    .dataframe tbody tr th {\n",
       "        vertical-align: top;\n",
       "    }\n",
       "\n",
       "    .dataframe thead th {\n",
       "        text-align: right;\n",
       "    }\n",
       "</style>\n",
       "<table border=\"1\" class=\"dataframe\">\n",
       "  <thead>\n",
       "    <tr style=\"text-align: right;\">\n",
       "      <th></th>\n",
       "      <th>time</th>\n",
       "      <th>mid_o</th>\n",
       "      <th>mid_h</th>\n",
       "      <th>mid_l</th>\n",
       "      <th>mid_c</th>\n",
       "      <th>RANGE</th>\n",
       "      <th>BODY_RANGE</th>\n",
       "      <th>CENTER</th>\n",
       "      <th>BODY_PERC</th>\n",
       "      <th>DIRECTION</th>\n",
       "      <th>...</th>\n",
       "      <th>DIST_TOP_PERC</th>\n",
       "      <th>DIST_BOTTOM_PERC</th>\n",
       "      <th>PREV_BODY_RANGE</th>\n",
       "      <th>PREV_BODY_PERC</th>\n",
       "      <th>PREV_DIRECTION</th>\n",
       "      <th>HAMMER</th>\n",
       "      <th>SPINNING_TOP</th>\n",
       "      <th>DOJI</th>\n",
       "      <th>MARUBOZU</th>\n",
       "      <th>ENGULFING</th>\n",
       "    </tr>\n",
       "  </thead>\n",
       "  <tbody>\n",
       "    <tr>\n",
       "      <th>3</th>\n",
       "      <td>2018-01-02 02:00:00+00:00</td>\n",
       "      <td>112.720</td>\n",
       "      <td>112.751</td>\n",
       "      <td>112.666</td>\n",
       "      <td>112.688</td>\n",
       "      <td>0.085</td>\n",
       "      <td>0.032</td>\n",
       "      <td>112.7085</td>\n",
       "      <td>0.376471</td>\n",
       "      <td>-1</td>\n",
       "      <td>...</td>\n",
       "      <td>0.258824</td>\n",
       "      <td>0.258824</td>\n",
       "      <td>0.057</td>\n",
       "      <td>0.270142</td>\n",
       "      <td>1.0</td>\n",
       "      <td>False</td>\n",
       "      <td>False</td>\n",
       "      <td>False</td>\n",
       "      <td>False</td>\n",
       "      <td>False</td>\n",
       "    </tr>\n",
       "    <tr>\n",
       "      <th>6</th>\n",
       "      <td>2018-01-02 06:00:00+00:00</td>\n",
       "      <td>112.691</td>\n",
       "      <td>112.700</td>\n",
       "      <td>112.249</td>\n",
       "      <td>112.252</td>\n",
       "      <td>0.451</td>\n",
       "      <td>0.439</td>\n",
       "      <td>112.4745</td>\n",
       "      <td>0.973392</td>\n",
       "      <td>-1</td>\n",
       "      <td>...</td>\n",
       "      <td>0.006652</td>\n",
       "      <td>0.006652</td>\n",
       "      <td>0.032</td>\n",
       "      <td>0.376471</td>\n",
       "      <td>-1.0</td>\n",
       "      <td>False</td>\n",
       "      <td>False</td>\n",
       "      <td>False</td>\n",
       "      <td>True</td>\n",
       "      <td>False</td>\n",
       "    </tr>\n",
       "    <tr>\n",
       "      <th>9</th>\n",
       "      <td>2018-01-02 10:00:00+00:00</td>\n",
       "      <td>112.254</td>\n",
       "      <td>112.282</td>\n",
       "      <td>112.086</td>\n",
       "      <td>112.124</td>\n",
       "      <td>0.196</td>\n",
       "      <td>0.130</td>\n",
       "      <td>112.1840</td>\n",
       "      <td>0.663265</td>\n",
       "      <td>-1</td>\n",
       "      <td>...</td>\n",
       "      <td>0.193878</td>\n",
       "      <td>0.193878</td>\n",
       "      <td>0.439</td>\n",
       "      <td>0.973392</td>\n",
       "      <td>-1.0</td>\n",
       "      <td>False</td>\n",
       "      <td>False</td>\n",
       "      <td>False</td>\n",
       "      <td>False</td>\n",
       "      <td>False</td>\n",
       "    </tr>\n",
       "    <tr>\n",
       "      <th>12</th>\n",
       "      <td>2018-01-02 14:00:00+00:00</td>\n",
       "      <td>112.122</td>\n",
       "      <td>112.304</td>\n",
       "      <td>112.058</td>\n",
       "      <td>112.285</td>\n",
       "      <td>0.246</td>\n",
       "      <td>0.163</td>\n",
       "      <td>112.1810</td>\n",
       "      <td>0.662602</td>\n",
       "      <td>1</td>\n",
       "      <td>...</td>\n",
       "      <td>0.077236</td>\n",
       "      <td>0.260163</td>\n",
       "      <td>0.130</td>\n",
       "      <td>0.663265</td>\n",
       "      <td>-1.0</td>\n",
       "      <td>False</td>\n",
       "      <td>False</td>\n",
       "      <td>False</td>\n",
       "      <td>False</td>\n",
       "      <td>True</td>\n",
       "    </tr>\n",
       "    <tr>\n",
       "      <th>15</th>\n",
       "      <td>2018-01-02 18:00:00+00:00</td>\n",
       "      <td>112.288</td>\n",
       "      <td>112.354</td>\n",
       "      <td>112.244</td>\n",
       "      <td>112.291</td>\n",
       "      <td>0.110</td>\n",
       "      <td>0.003</td>\n",
       "      <td>112.2990</td>\n",
       "      <td>0.027273</td>\n",
       "      <td>1</td>\n",
       "      <td>...</td>\n",
       "      <td>0.572727</td>\n",
       "      <td>0.400000</td>\n",
       "      <td>0.163</td>\n",
       "      <td>0.662602</td>\n",
       "      <td>1.0</td>\n",
       "      <td>False</td>\n",
       "      <td>False</td>\n",
       "      <td>True</td>\n",
       "      <td>False</td>\n",
       "      <td>False</td>\n",
       "    </tr>\n",
       "  </tbody>\n",
       "</table>\n",
       "<p>5 rows × 22 columns</p>\n",
       "</div>"
      ],
      "text/plain": [
       "                        time    mid_o    mid_h    mid_l    mid_c  RANGE  \\\n",
       "3  2018-01-02 02:00:00+00:00  112.720  112.751  112.666  112.688  0.085   \n",
       "6  2018-01-02 06:00:00+00:00  112.691  112.700  112.249  112.252  0.451   \n",
       "9  2018-01-02 10:00:00+00:00  112.254  112.282  112.086  112.124  0.196   \n",
       "12 2018-01-02 14:00:00+00:00  112.122  112.304  112.058  112.285  0.246   \n",
       "15 2018-01-02 18:00:00+00:00  112.288  112.354  112.244  112.291  0.110   \n",
       "\n",
       "    BODY_RANGE    CENTER  BODY_PERC  DIRECTION  ...  DIST_TOP_PERC  \\\n",
       "3        0.032  112.7085   0.376471         -1  ...       0.258824   \n",
       "6        0.439  112.4745   0.973392         -1  ...       0.006652   \n",
       "9        0.130  112.1840   0.663265         -1  ...       0.193878   \n",
       "12       0.163  112.1810   0.662602          1  ...       0.077236   \n",
       "15       0.003  112.2990   0.027273          1  ...       0.572727   \n",
       "\n",
       "    DIST_BOTTOM_PERC  PREV_BODY_RANGE  PREV_BODY_PERC  PREV_DIRECTION  HAMMER  \\\n",
       "3           0.258824            0.057        0.270142             1.0   False   \n",
       "6           0.006652            0.032        0.376471            -1.0   False   \n",
       "9           0.193878            0.439        0.973392            -1.0   False   \n",
       "12          0.260163            0.130        0.663265            -1.0   False   \n",
       "15          0.400000            0.163        0.662602             1.0   False   \n",
       "\n",
       "    SPINNING_TOP   DOJI  MARUBOZU  ENGULFING  \n",
       "3          False  False     False      False  \n",
       "6          False  False      True      False  \n",
       "9          False  False     False      False  \n",
       "12         False  False     False       True  \n",
       "15         False   True     False      False  \n",
       "\n",
       "[5 rows x 22 columns]"
      ]
     },
     "execution_count": 134,
     "metadata": {},
     "output_type": "execute_result"
    }
   ],
   "source": [
    "df = df_raw[cols].copy()\n",
    "df = apply_stats(df)\n",
    "df = apply_patterns(df)\n",
    "df.head()"
   ]
  },
  {
   "cell_type": "code",
   "execution_count": 137,
   "metadata": {},
   "outputs": [],
   "source": [
    "df_plot = df.iloc[700:800]\n",
    "# df_markers = df_plot[(df_plot.MARUBOZU==True) | (df_plot.DOJI==True | (df_plot.HAMMER==True) | (df_plot.SPINNING_TOP==True)) |  (df_plot.ENGULFING==True)]\n",
    "df_markers = df_plot[(df_plot.ENGULFING==True)]"
   ]
  },
  {
   "cell_type": "code",
   "execution_count": 138,
   "metadata": {},
   "outputs": [
    {
     "data": {
      "application/vnd.plotly.v1+json": {
       "config": {
        "plotlyServerURL": "https://plot.ly"
       },
       "data": [
        {
         "close": [
          110.344,
          110.304,
          110.192,
          109.952,
          110.17,
          110.442,
          110.63,
          110.567,
          110.751,
          110.507,
          110.496,
          110.594,
          110.66,
          110.555,
          110.502,
          110.531,
          110.47,
          110.465,
          110.55,
          110.118,
          109.72,
          109.838,
          109.906,
          109.954,
          110.053,
          110.005,
          110.162,
          110.111,
          110.036,
          110.2,
          110.356,
          110.379,
          110.644,
          110.468,
          110.272,
          109.957,
          109.97,
          109.998,
          110.033,
          110.144,
          110.062,
          109.947,
          109.98,
          109.624,
          109.49,
          109.458,
          109.65,
          109.546,
          109.764,
          109.562,
          109.458,
          109.648,
          109.708,
          109.998,
          110.041,
          109.936,
          109.989,
          109.776,
          110.25,
          110.346,
          110.264,
          110.038,
          110.294,
          110.304,
          110.15,
          110.342,
          110.493,
          110.447,
          110.678,
          110.742,
          110.609,
          110.78,
          110.728,
          110.844,
          110.802,
          110.802,
          110.816,
          110.844,
          110.894,
          110.962,
          110.844,
          110.926,
          110.694,
          110.552,
          110.589,
          110.29,
          110.456,
          110.484,
          110.495,
          110.475,
          110.494,
          110.449,
          110.378,
          110.61,
          110.571,
          110.63,
          110.645,
          110.689,
          110.676,
          110.634
         ],
         "decreasing": {
          "fillcolor": "#CC2E3C",
          "line": {
           "color": "#FF3A4C"
          }
         },
         "high": [
          110.85,
          110.376,
          110.35,
          110.196,
          110.227,
          110.494,
          110.696,
          110.691,
          110.796,
          110.903,
          110.732,
          110.654,
          110.68,
          110.74,
          110.554,
          110.616,
          110.579,
          110.525,
          110.594,
          110.574,
          110.16,
          109.848,
          109.95,
          110.098,
          110.101,
          110.142,
          110.202,
          110.252,
          110.158,
          110.251,
          110.45,
          110.438,
          110.687,
          110.758,
          110.598,
          110.32,
          110.037,
          110.037,
          110.07,
          110.218,
          110.194,
          110.116,
          110.004,
          110.038,
          109.681,
          109.586,
          109.662,
          109.695,
          110.048,
          109.781,
          109.645,
          109.726,
          109.802,
          110.047,
          110.22,
          110.206,
          110.004,
          110.008,
          110.348,
          110.49,
          110.374,
          110.294,
          110.317,
          110.42,
          110.327,
          110.424,
          110.65,
          110.541,
          110.791,
          110.763,
          110.752,
          110.881,
          110.944,
          110.844,
          111.062,
          110.84,
          110.84,
          110.918,
          110.926,
          110.978,
          111.134,
          111.116,
          110.941,
          110.744,
          110.61,
          110.612,
          110.484,
          110.556,
          110.528,
          110.552,
          110.53,
          110.619,
          110.482,
          110.7,
          110.706,
          110.694,
          110.73,
          110.742,
          110.776,
          110.786
         ],
         "increasing": {
          "fillcolor": "#24A06B",
          "line": {
           "color": "#2EC886"
          }
         },
         "line": {
          "width": 1
         },
         "low": [
          110.274,
          110.086,
          110.16,
          109.917,
          109.926,
          110.164,
          110.416,
          110.493,
          110.458,
          110.39,
          110.438,
          110.414,
          110.536,
          110.47,
          110.302,
          110.444,
          110.418,
          110.38,
          110.468,
          110.026,
          109.68,
          109.553,
          109.786,
          109.707,
          109.868,
          109.987,
          109.856,
          110.082,
          109.996,
          109.948,
          110.162,
          110.326,
          110.338,
          110.367,
          110.206,
          109.854,
          109.844,
          109.848,
          109.934,
          109.86,
          110.044,
          109.803,
          109.874,
          109.584,
          109.452,
          109.378,
          109.416,
          109.472,
          109.37,
          109.507,
          109.37,
          109.46,
          109.556,
          109.676,
          109.987,
          109.894,
          109.774,
          109.686,
          109.762,
          110.246,
          110.148,
          109.968,
          110.008,
          110.233,
          110.062,
          110.141,
          110.327,
          110.376,
          110.434,
          110.566,
          110.475,
          110.608,
          110.606,
          110.594,
          110.756,
          110.604,
          110.7,
          110.676,
          110.792,
          110.8,
          110.758,
          110.792,
          110.59,
          110.508,
          110.526,
          110.278,
          110.282,
          110.324,
          110.462,
          110.46,
          110.416,
          110.406,
          110.291,
          110.369,
          110.542,
          110.526,
          110.58,
          110.531,
          110.599,
          110.529
         ],
         "opacity": 1,
         "open": [
          110.399,
          110.334,
          110.3,
          110.189,
          109.954,
          110.172,
          110.44,
          110.653,
          110.564,
          110.754,
          110.51,
          110.492,
          110.596,
          110.68,
          110.553,
          110.505,
          110.534,
          110.468,
          110.468,
          110.546,
          110.12,
          109.722,
          109.836,
          109.904,
          109.95,
          110.064,
          110.007,
          110.164,
          110.114,
          110.033,
          110.198,
          110.346,
          110.381,
          110.642,
          110.466,
          110.27,
          109.954,
          109.981,
          109.996,
          110.03,
          110.146,
          110.064,
          109.95,
          109.868,
          109.627,
          109.488,
          109.455,
          109.647,
          109.544,
          109.771,
          109.564,
          109.46,
          109.65,
          109.71,
          109.996,
          110.046,
          109.938,
          109.992,
          109.774,
          110.253,
          110.349,
          110.26,
          110.04,
          110.296,
          110.306,
          110.148,
          110.344,
          110.5,
          110.445,
          110.675,
          110.739,
          110.612,
          110.783,
          110.675,
          110.841,
          110.8,
          110.805,
          110.819,
          110.846,
          110.868,
          110.964,
          110.842,
          110.928,
          110.697,
          110.549,
          110.595,
          110.292,
          110.459,
          110.486,
          110.498,
          110.472,
          110.487,
          110.446,
          110.376,
          110.612,
          110.569,
          110.632,
          110.588,
          110.691,
          110.673
         ],
         "type": "candlestick",
         "x": [
          "2018-06-13T17:00:00+00:00",
          "2018-06-13T21:00:00+00:00",
          "2018-06-14T01:00:00+00:00",
          "2018-06-14T05:00:00+00:00",
          "2018-06-14T09:00:00+00:00",
          "2018-06-14T13:00:00+00:00",
          "2018-06-14T17:00:00+00:00",
          "2018-06-14T21:00:00+00:00",
          "2018-06-15T01:00:00+00:00",
          "2018-06-15T05:00:00+00:00",
          "2018-06-15T09:00:00+00:00",
          "2018-06-15T13:00:00+00:00",
          "2018-06-15T17:00:00+00:00",
          "2018-06-17T21:00:00+00:00",
          "2018-06-18T01:00:00+00:00",
          "2018-06-18T05:00:00+00:00",
          "2018-06-18T09:00:00+00:00",
          "2018-06-18T13:00:00+00:00",
          "2018-06-18T17:00:00+00:00",
          "2018-06-18T21:00:00+00:00",
          "2018-06-19T01:00:00+00:00",
          "2018-06-19T05:00:00+00:00",
          "2018-06-19T09:00:00+00:00",
          "2018-06-19T13:00:00+00:00",
          "2018-06-19T17:00:00+00:00",
          "2018-06-19T21:00:00+00:00",
          "2018-06-20T01:00:00+00:00",
          "2018-06-20T05:00:00+00:00",
          "2018-06-20T09:00:00+00:00",
          "2018-06-20T13:00:00+00:00",
          "2018-06-20T17:00:00+00:00",
          "2018-06-20T21:00:00+00:00",
          "2018-06-21T01:00:00+00:00",
          "2018-06-21T05:00:00+00:00",
          "2018-06-21T09:00:00+00:00",
          "2018-06-21T13:00:00+00:00",
          "2018-06-21T17:00:00+00:00",
          "2018-06-21T21:00:00+00:00",
          "2018-06-22T01:00:00+00:00",
          "2018-06-22T05:00:00+00:00",
          "2018-06-22T09:00:00+00:00",
          "2018-06-22T13:00:00+00:00",
          "2018-06-22T17:00:00+00:00",
          "2018-06-24T21:00:00+00:00",
          "2018-06-25T01:00:00+00:00",
          "2018-06-25T05:00:00+00:00",
          "2018-06-25T09:00:00+00:00",
          "2018-06-25T13:00:00+00:00",
          "2018-06-25T17:00:00+00:00",
          "2018-06-25T21:00:00+00:00",
          "2018-06-26T01:00:00+00:00",
          "2018-06-26T05:00:00+00:00",
          "2018-06-26T09:00:00+00:00",
          "2018-06-26T13:00:00+00:00",
          "2018-06-26T17:00:00+00:00",
          "2018-06-26T21:00:00+00:00",
          "2018-06-27T01:00:00+00:00",
          "2018-06-27T05:00:00+00:00",
          "2018-06-27T09:00:00+00:00",
          "2018-06-27T13:00:00+00:00",
          "2018-06-27T17:00:00+00:00",
          "2018-06-27T21:00:00+00:00",
          "2018-06-28T01:00:00+00:00",
          "2018-06-28T05:00:00+00:00",
          "2018-06-28T09:00:00+00:00",
          "2018-06-28T13:00:00+00:00",
          "2018-06-28T17:00:00+00:00",
          "2018-06-28T21:00:00+00:00",
          "2018-06-29T01:00:00+00:00",
          "2018-06-29T05:00:00+00:00",
          "2018-06-29T09:00:00+00:00",
          "2018-06-29T13:00:00+00:00",
          "2018-06-29T17:00:00+00:00",
          "2018-07-01T21:00:00+00:00",
          "2018-07-02T01:00:00+00:00",
          "2018-07-02T05:00:00+00:00",
          "2018-07-02T09:00:00+00:00",
          "2018-07-02T13:00:00+00:00",
          "2018-07-02T17:00:00+00:00",
          "2018-07-02T21:00:00+00:00",
          "2018-07-03T01:00:00+00:00",
          "2018-07-03T05:00:00+00:00",
          "2018-07-03T09:00:00+00:00",
          "2018-07-03T13:00:00+00:00",
          "2018-07-03T17:00:00+00:00",
          "2018-07-03T21:00:00+00:00",
          "2018-07-04T01:00:00+00:00",
          "2018-07-04T05:00:00+00:00",
          "2018-07-04T09:00:00+00:00",
          "2018-07-04T13:00:00+00:00",
          "2018-07-04T17:00:00+00:00",
          "2018-07-04T21:00:00+00:00",
          "2018-07-05T01:00:00+00:00",
          "2018-07-05T05:00:00+00:00",
          "2018-07-05T09:00:00+00:00",
          "2018-07-05T13:00:00+00:00",
          "2018-07-05T17:00:00+00:00",
          "2018-07-05T21:00:00+00:00",
          "2018-07-06T01:00:00+00:00",
          "2018-07-06T05:00:00+00:00"
         ]
        },
        {
         "close": [
          110.118,
          110.25,
          110.294
         ],
         "decreasing": {
          "fillcolor": "#3480eb",
          "line": {
           "color": "#3480eb"
          }
         },
         "high": [
          110.574,
          110.348,
          110.317
         ],
         "increasing": {
          "fillcolor": "#3480eb",
          "line": {
           "color": "#3480eb"
          }
         },
         "line": {
          "width": 1
         },
         "low": [
          110.026,
          109.762,
          110.008
         ],
         "opacity": 1,
         "open": [
          110.546,
          109.774,
          110.04
         ],
         "type": "candlestick",
         "x": [
          "2018-06-18T21:00:00+00:00",
          "2018-06-27T09:00:00+00:00",
          "2018-06-28T01:00:00+00:00"
         ]
        }
       ],
       "layout": {
        "font": {
         "color": "#e1e1e1",
         "size": 10
        },
        "height": 400,
        "margin": {
         "b": 10,
         "l": 10,
         "r": 10,
         "t": 10
        },
        "paper_bgcolor": "#1e1e1e",
        "plot_bgcolor": "#1e1e1e",
        "template": {
         "data": {
          "bar": [
           {
            "error_x": {
             "color": "#2a3f5f"
            },
            "error_y": {
             "color": "#2a3f5f"
            },
            "marker": {
             "line": {
              "color": "#E5ECF6",
              "width": 0.5
             },
             "pattern": {
              "fillmode": "overlay",
              "size": 10,
              "solidity": 0.2
             }
            },
            "type": "bar"
           }
          ],
          "barpolar": [
           {
            "marker": {
             "line": {
              "color": "#E5ECF6",
              "width": 0.5
             },
             "pattern": {
              "fillmode": "overlay",
              "size": 10,
              "solidity": 0.2
             }
            },
            "type": "barpolar"
           }
          ],
          "carpet": [
           {
            "aaxis": {
             "endlinecolor": "#2a3f5f",
             "gridcolor": "white",
             "linecolor": "white",
             "minorgridcolor": "white",
             "startlinecolor": "#2a3f5f"
            },
            "baxis": {
             "endlinecolor": "#2a3f5f",
             "gridcolor": "white",
             "linecolor": "white",
             "minorgridcolor": "white",
             "startlinecolor": "#2a3f5f"
            },
            "type": "carpet"
           }
          ],
          "choropleth": [
           {
            "colorbar": {
             "outlinewidth": 0,
             "ticks": ""
            },
            "type": "choropleth"
           }
          ],
          "contour": [
           {
            "colorbar": {
             "outlinewidth": 0,
             "ticks": ""
            },
            "colorscale": [
             [
              0,
              "#0d0887"
             ],
             [
              0.1111111111111111,
              "#46039f"
             ],
             [
              0.2222222222222222,
              "#7201a8"
             ],
             [
              0.3333333333333333,
              "#9c179e"
             ],
             [
              0.4444444444444444,
              "#bd3786"
             ],
             [
              0.5555555555555556,
              "#d8576b"
             ],
             [
              0.6666666666666666,
              "#ed7953"
             ],
             [
              0.7777777777777778,
              "#fb9f3a"
             ],
             [
              0.8888888888888888,
              "#fdca26"
             ],
             [
              1,
              "#f0f921"
             ]
            ],
            "type": "contour"
           }
          ],
          "contourcarpet": [
           {
            "colorbar": {
             "outlinewidth": 0,
             "ticks": ""
            },
            "type": "contourcarpet"
           }
          ],
          "heatmap": [
           {
            "colorbar": {
             "outlinewidth": 0,
             "ticks": ""
            },
            "colorscale": [
             [
              0,
              "#0d0887"
             ],
             [
              0.1111111111111111,
              "#46039f"
             ],
             [
              0.2222222222222222,
              "#7201a8"
             ],
             [
              0.3333333333333333,
              "#9c179e"
             ],
             [
              0.4444444444444444,
              "#bd3786"
             ],
             [
              0.5555555555555556,
              "#d8576b"
             ],
             [
              0.6666666666666666,
              "#ed7953"
             ],
             [
              0.7777777777777778,
              "#fb9f3a"
             ],
             [
              0.8888888888888888,
              "#fdca26"
             ],
             [
              1,
              "#f0f921"
             ]
            ],
            "type": "heatmap"
           }
          ],
          "heatmapgl": [
           {
            "colorbar": {
             "outlinewidth": 0,
             "ticks": ""
            },
            "colorscale": [
             [
              0,
              "#0d0887"
             ],
             [
              0.1111111111111111,
              "#46039f"
             ],
             [
              0.2222222222222222,
              "#7201a8"
             ],
             [
              0.3333333333333333,
              "#9c179e"
             ],
             [
              0.4444444444444444,
              "#bd3786"
             ],
             [
              0.5555555555555556,
              "#d8576b"
             ],
             [
              0.6666666666666666,
              "#ed7953"
             ],
             [
              0.7777777777777778,
              "#fb9f3a"
             ],
             [
              0.8888888888888888,
              "#fdca26"
             ],
             [
              1,
              "#f0f921"
             ]
            ],
            "type": "heatmapgl"
           }
          ],
          "histogram": [
           {
            "marker": {
             "pattern": {
              "fillmode": "overlay",
              "size": 10,
              "solidity": 0.2
             }
            },
            "type": "histogram"
           }
          ],
          "histogram2d": [
           {
            "colorbar": {
             "outlinewidth": 0,
             "ticks": ""
            },
            "colorscale": [
             [
              0,
              "#0d0887"
             ],
             [
              0.1111111111111111,
              "#46039f"
             ],
             [
              0.2222222222222222,
              "#7201a8"
             ],
             [
              0.3333333333333333,
              "#9c179e"
             ],
             [
              0.4444444444444444,
              "#bd3786"
             ],
             [
              0.5555555555555556,
              "#d8576b"
             ],
             [
              0.6666666666666666,
              "#ed7953"
             ],
             [
              0.7777777777777778,
              "#fb9f3a"
             ],
             [
              0.8888888888888888,
              "#fdca26"
             ],
             [
              1,
              "#f0f921"
             ]
            ],
            "type": "histogram2d"
           }
          ],
          "histogram2dcontour": [
           {
            "colorbar": {
             "outlinewidth": 0,
             "ticks": ""
            },
            "colorscale": [
             [
              0,
              "#0d0887"
             ],
             [
              0.1111111111111111,
              "#46039f"
             ],
             [
              0.2222222222222222,
              "#7201a8"
             ],
             [
              0.3333333333333333,
              "#9c179e"
             ],
             [
              0.4444444444444444,
              "#bd3786"
             ],
             [
              0.5555555555555556,
              "#d8576b"
             ],
             [
              0.6666666666666666,
              "#ed7953"
             ],
             [
              0.7777777777777778,
              "#fb9f3a"
             ],
             [
              0.8888888888888888,
              "#fdca26"
             ],
             [
              1,
              "#f0f921"
             ]
            ],
            "type": "histogram2dcontour"
           }
          ],
          "mesh3d": [
           {
            "colorbar": {
             "outlinewidth": 0,
             "ticks": ""
            },
            "type": "mesh3d"
           }
          ],
          "parcoords": [
           {
            "line": {
             "colorbar": {
              "outlinewidth": 0,
              "ticks": ""
             }
            },
            "type": "parcoords"
           }
          ],
          "pie": [
           {
            "automargin": true,
            "type": "pie"
           }
          ],
          "scatter": [
           {
            "marker": {
             "colorbar": {
              "outlinewidth": 0,
              "ticks": ""
             }
            },
            "type": "scatter"
           }
          ],
          "scatter3d": [
           {
            "line": {
             "colorbar": {
              "outlinewidth": 0,
              "ticks": ""
             }
            },
            "marker": {
             "colorbar": {
              "outlinewidth": 0,
              "ticks": ""
             }
            },
            "type": "scatter3d"
           }
          ],
          "scattercarpet": [
           {
            "marker": {
             "colorbar": {
              "outlinewidth": 0,
              "ticks": ""
             }
            },
            "type": "scattercarpet"
           }
          ],
          "scattergeo": [
           {
            "marker": {
             "colorbar": {
              "outlinewidth": 0,
              "ticks": ""
             }
            },
            "type": "scattergeo"
           }
          ],
          "scattergl": [
           {
            "marker": {
             "colorbar": {
              "outlinewidth": 0,
              "ticks": ""
             }
            },
            "type": "scattergl"
           }
          ],
          "scattermapbox": [
           {
            "marker": {
             "colorbar": {
              "outlinewidth": 0,
              "ticks": ""
             }
            },
            "type": "scattermapbox"
           }
          ],
          "scatterpolar": [
           {
            "marker": {
             "colorbar": {
              "outlinewidth": 0,
              "ticks": ""
             }
            },
            "type": "scatterpolar"
           }
          ],
          "scatterpolargl": [
           {
            "marker": {
             "colorbar": {
              "outlinewidth": 0,
              "ticks": ""
             }
            },
            "type": "scatterpolargl"
           }
          ],
          "scatterternary": [
           {
            "marker": {
             "colorbar": {
              "outlinewidth": 0,
              "ticks": ""
             }
            },
            "type": "scatterternary"
           }
          ],
          "surface": [
           {
            "colorbar": {
             "outlinewidth": 0,
             "ticks": ""
            },
            "colorscale": [
             [
              0,
              "#0d0887"
             ],
             [
              0.1111111111111111,
              "#46039f"
             ],
             [
              0.2222222222222222,
              "#7201a8"
             ],
             [
              0.3333333333333333,
              "#9c179e"
             ],
             [
              0.4444444444444444,
              "#bd3786"
             ],
             [
              0.5555555555555556,
              "#d8576b"
             ],
             [
              0.6666666666666666,
              "#ed7953"
             ],
             [
              0.7777777777777778,
              "#fb9f3a"
             ],
             [
              0.8888888888888888,
              "#fdca26"
             ],
             [
              1,
              "#f0f921"
             ]
            ],
            "type": "surface"
           }
          ],
          "table": [
           {
            "cells": {
             "fill": {
              "color": "#EBF0F8"
             },
             "line": {
              "color": "white"
             }
            },
            "header": {
             "fill": {
              "color": "#C8D4E3"
             },
             "line": {
              "color": "white"
             }
            },
            "type": "table"
           }
          ]
         },
         "layout": {
          "annotationdefaults": {
           "arrowcolor": "#2a3f5f",
           "arrowhead": 0,
           "arrowwidth": 1
          },
          "autotypenumbers": "strict",
          "coloraxis": {
           "colorbar": {
            "outlinewidth": 0,
            "ticks": ""
           }
          },
          "colorscale": {
           "diverging": [
            [
             0,
             "#8e0152"
            ],
            [
             0.1,
             "#c51b7d"
            ],
            [
             0.2,
             "#de77ae"
            ],
            [
             0.3,
             "#f1b6da"
            ],
            [
             0.4,
             "#fde0ef"
            ],
            [
             0.5,
             "#f7f7f7"
            ],
            [
             0.6,
             "#e6f5d0"
            ],
            [
             0.7,
             "#b8e186"
            ],
            [
             0.8,
             "#7fbc41"
            ],
            [
             0.9,
             "#4d9221"
            ],
            [
             1,
             "#276419"
            ]
           ],
           "sequential": [
            [
             0,
             "#0d0887"
            ],
            [
             0.1111111111111111,
             "#46039f"
            ],
            [
             0.2222222222222222,
             "#7201a8"
            ],
            [
             0.3333333333333333,
             "#9c179e"
            ],
            [
             0.4444444444444444,
             "#bd3786"
            ],
            [
             0.5555555555555556,
             "#d8576b"
            ],
            [
             0.6666666666666666,
             "#ed7953"
            ],
            [
             0.7777777777777778,
             "#fb9f3a"
            ],
            [
             0.8888888888888888,
             "#fdca26"
            ],
            [
             1,
             "#f0f921"
            ]
           ],
           "sequentialminus": [
            [
             0,
             "#0d0887"
            ],
            [
             0.1111111111111111,
             "#46039f"
            ],
            [
             0.2222222222222222,
             "#7201a8"
            ],
            [
             0.3333333333333333,
             "#9c179e"
            ],
            [
             0.4444444444444444,
             "#bd3786"
            ],
            [
             0.5555555555555556,
             "#d8576b"
            ],
            [
             0.6666666666666666,
             "#ed7953"
            ],
            [
             0.7777777777777778,
             "#fb9f3a"
            ],
            [
             0.8888888888888888,
             "#fdca26"
            ],
            [
             1,
             "#f0f921"
            ]
           ]
          },
          "colorway": [
           "#636efa",
           "#EF553B",
           "#00cc96",
           "#ab63fa",
           "#FFA15A",
           "#19d3f3",
           "#FF6692",
           "#B6E880",
           "#FF97FF",
           "#FECB52"
          ],
          "font": {
           "color": "#2a3f5f"
          },
          "geo": {
           "bgcolor": "white",
           "lakecolor": "white",
           "landcolor": "#E5ECF6",
           "showlakes": true,
           "showland": true,
           "subunitcolor": "white"
          },
          "hoverlabel": {
           "align": "left"
          },
          "hovermode": "closest",
          "mapbox": {
           "style": "light"
          },
          "paper_bgcolor": "white",
          "plot_bgcolor": "#E5ECF6",
          "polar": {
           "angularaxis": {
            "gridcolor": "white",
            "linecolor": "white",
            "ticks": ""
           },
           "bgcolor": "#E5ECF6",
           "radialaxis": {
            "gridcolor": "white",
            "linecolor": "white",
            "ticks": ""
           }
          },
          "scene": {
           "xaxis": {
            "backgroundcolor": "#E5ECF6",
            "gridcolor": "white",
            "gridwidth": 2,
            "linecolor": "white",
            "showbackground": true,
            "ticks": "",
            "zerolinecolor": "white"
           },
           "yaxis": {
            "backgroundcolor": "#E5ECF6",
            "gridcolor": "white",
            "gridwidth": 2,
            "linecolor": "white",
            "showbackground": true,
            "ticks": "",
            "zerolinecolor": "white"
           },
           "zaxis": {
            "backgroundcolor": "#E5ECF6",
            "gridcolor": "white",
            "gridwidth": 2,
            "linecolor": "white",
            "showbackground": true,
            "ticks": "",
            "zerolinecolor": "white"
           }
          },
          "shapedefaults": {
           "line": {
            "color": "#2a3f5f"
           }
          },
          "ternary": {
           "aaxis": {
            "gridcolor": "white",
            "linecolor": "white",
            "ticks": ""
           },
           "baxis": {
            "gridcolor": "white",
            "linecolor": "white",
            "ticks": ""
           },
           "bgcolor": "#E5ECF6",
           "caxis": {
            "gridcolor": "white",
            "linecolor": "white",
            "ticks": ""
           }
          },
          "title": {
           "x": 0.05
          },
          "xaxis": {
           "automargin": true,
           "gridcolor": "white",
           "linecolor": "white",
           "ticks": "",
           "title": {
            "standoff": 15
           },
           "zerolinecolor": "white",
           "zerolinewidth": 2
          },
          "yaxis": {
           "automargin": true,
           "gridcolor": "white",
           "linecolor": "white",
           "ticks": "",
           "title": {
            "standoff": 15
           },
           "zerolinecolor": "white",
           "zerolinewidth": 2
          }
         }
        },
        "width": 1000,
        "xaxis": {
         "fixedrange": true,
         "gridcolor": "#1F292F",
         "rangebreaks": [
          {
           "bounds": [
            "sat",
            "mon"
           ]
          }
         ],
         "rangeslider": {
          "visible": false
         },
         "showgrid": true
        },
        "yaxis": {
         "gridcolor": "#1F292F",
         "showgrid": true
        }
       }
      }
     },
     "metadata": {},
     "output_type": "display_data"
    }
   ],
   "source": [
    "plot_candles(df_plot, df_markers)"
   ]
  },
  {
   "cell_type": "code",
   "execution_count": null,
   "metadata": {},
   "outputs": [],
   "source": []
  },
  {
   "cell_type": "code",
   "execution_count": null,
   "metadata": {},
   "outputs": [],
   "source": []
  }
 ],
 "metadata": {
  "interpreter": {
   "hash": "31929411b538e7e8805f5fd4edee4e5f3f6934ca80a60812a6992fcaa7d06445"
  },
  "kernelspec": {
   "display_name": "Python 3.9.10 64-bit ('venv': venv)",
   "language": "python",
   "name": "python3"
  },
  "language_info": {
   "codemirror_mode": {
    "name": "ipython",
    "version": 3
   },
   "file_extension": ".py",
   "mimetype": "text/x-python",
   "name": "python",
   "nbconvert_exporter": "python",
   "pygments_lexer": "ipython3",
   "version": "3.9.10"
  },
  "orig_nbformat": 4
 },
 "nbformat": 4,
 "nbformat_minor": 2
}
