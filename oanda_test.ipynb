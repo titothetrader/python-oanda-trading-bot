{
 "cells": [
  {
   "cell_type": "code",
   "execution_count": 27,
   "metadata": {},
   "outputs": [],
   "source": [
    "import requests\n",
    "import defs\n",
    "import pandas as pd\n"
   ]
  },
  {
   "cell_type": "markdown",
   "metadata": {},
   "source": [
    "Creation a connection session to make an API request"
   ]
  },
  {
   "cell_type": "code",
   "execution_count": 3,
   "metadata": {},
   "outputs": [],
   "source": [
    "session = requests.Session()"
   ]
  },
  {
   "cell_type": "markdown",
   "metadata": {},
   "source": [
    "Define number of candles to get, Time Frame and URL"
   ]
  },
  {
   "cell_type": "code",
   "execution_count": 4,
   "metadata": {},
   "outputs": [],
   "source": [
    "instrument = \"EUR_USD\"\n",
    "count = 10\n",
    "granularity = \"H1\""
   ]
  },
  {
   "cell_type": "code",
   "execution_count": 5,
   "metadata": {},
   "outputs": [
    {
     "data": {
      "text/plain": [
       "'https://api-fxpractice.oanda.com/v3/instruments/EUR_USD/candles'"
      ]
     },
     "execution_count": 5,
     "metadata": {},
     "output_type": "execute_result"
    }
   ],
   "source": [
    "url = f\"{defs.OANDA_URL}/instruments/{instrument}/candles\"\n",
    "url"
   ]
  },
  {
   "cell_type": "markdown",
   "metadata": {},
   "source": [
    "Create a Dictionary to group parameters to pass the Response\n"
   ]
  },
  {
   "cell_type": "code",
   "execution_count": 6,
   "metadata": {},
   "outputs": [
    {
     "data": {
      "text/plain": [
       "{'count': 10, 'granularity': 'H1', 'price': 'MBA'}"
      ]
     },
     "execution_count": 6,
     "metadata": {},
     "output_type": "execute_result"
    }
   ],
   "source": [
    "params = dict(\n",
    "    count = count,\n",
    "    granularity = granularity,\n",
    "    price = \"MBA\"\n",
    ")\n",
    "params"
   ]
  },
  {
   "cell_type": "markdown",
   "metadata": {},
   "source": [
    "Make the response"
   ]
  },
  {
   "cell_type": "code",
   "execution_count": 7,
   "metadata": {},
   "outputs": [],
   "source": [
    "response = session.get(url, params=params, headers=defs.SECURE_HEADER)"
   ]
  },
  {
   "cell_type": "markdown",
   "metadata": {},
   "source": [
    "Confirm the response is successful (200 OK)"
   ]
  },
  {
   "cell_type": "code",
   "execution_count": 8,
   "metadata": {},
   "outputs": [
    {
     "data": {
      "text/plain": [
       "200"
      ]
     },
     "execution_count": 8,
     "metadata": {},
     "output_type": "execute_result"
    }
   ],
   "source": [
    "response.status_code"
   ]
  },
  {
   "cell_type": "markdown",
   "metadata": {},
   "source": [
    "Review Response Body"
   ]
  },
  {
   "cell_type": "code",
   "execution_count": 9,
   "metadata": {},
   "outputs": [
    {
     "data": {
      "text/plain": [
       "{'instrument': 'EUR_USD',\n",
       " 'granularity': 'H1',\n",
       " 'candles': [{'complete': True,\n",
       "   'volume': 7782,\n",
       "   'time': '2022-01-27T14:00:00.000000000Z',\n",
       "   'bid': {'o': '1.11485', 'h': '1.11615', 'l': '1.11448', 'c': '1.11603'},\n",
       "   'mid': {'o': '1.11492', 'h': '1.11622', 'l': '1.11455', 'c': '1.11610'},\n",
       "   'ask': {'o': '1.11499', 'h': '1.11629', 'l': '1.11462', 'c': '1.11618'}},\n",
       "  {'complete': True,\n",
       "   'volume': 8257,\n",
       "   'time': '2022-01-27T15:00:00.000000000Z',\n",
       "   'bid': {'o': '1.11605', 'h': '1.11609', 'l': '1.11308', 'c': '1.11487'},\n",
       "   'mid': {'o': '1.11612', 'h': '1.11617', 'l': '1.11316', 'c': '1.11494'},\n",
       "   'ask': {'o': '1.11620', 'h': '1.11625', 'l': '1.11323', 'c': '1.11500'}},\n",
       "  {'complete': True,\n",
       "   'volume': 5951,\n",
       "   'time': '2022-01-27T16:00:00.000000000Z',\n",
       "   'bid': {'o': '1.11485', 'h': '1.11611', 'l': '1.11404', 'c': '1.11416'},\n",
       "   'mid': {'o': '1.11492', 'h': '1.11618', 'l': '1.11411', 'c': '1.11423'},\n",
       "   'ask': {'o': '1.11499', 'h': '1.11626', 'l': '1.11418', 'c': '1.11430'}},\n",
       "  {'complete': True,\n",
       "   'volume': 3445,\n",
       "   'time': '2022-01-27T17:00:00.000000000Z',\n",
       "   'bid': {'o': '1.11417', 'h': '1.11508', 'l': '1.11359', 'c': '1.11385'},\n",
       "   'mid': {'o': '1.11424', 'h': '1.11515', 'l': '1.11366', 'c': '1.11392'},\n",
       "   'ask': {'o': '1.11431', 'h': '1.11523', 'l': '1.11372', 'c': '1.11398'}},\n",
       "  {'complete': True,\n",
       "   'volume': 2658,\n",
       "   'time': '2022-01-27T18:00:00.000000000Z',\n",
       "   'bid': {'o': '1.11383', 'h': '1.11461', 'l': '1.11349', 'c': '1.11437'},\n",
       "   'mid': {'o': '1.11390', 'h': '1.11468', 'l': '1.11356', 'c': '1.11445'},\n",
       "   'ask': {'o': '1.11397', 'h': '1.11476', 'l': '1.11364', 'c': '1.11453'}},\n",
       "  {'complete': True,\n",
       "   'volume': 2307,\n",
       "   'time': '2022-01-27T19:00:00.000000000Z',\n",
       "   'bid': {'o': '1.11439', 'h': '1.11464', 'l': '1.11380', 'c': '1.11398'},\n",
       "   'mid': {'o': '1.11446', 'h': '1.11471', 'l': '1.11388', 'c': '1.11405'},\n",
       "   'ask': {'o': '1.11454', 'h': '1.11478', 'l': '1.11394', 'c': '1.11412'}},\n",
       "  {'complete': True,\n",
       "   'volume': 1936,\n",
       "   'time': '2022-01-27T20:00:00.000000000Z',\n",
       "   'bid': {'o': '1.11397', 'h': '1.11487', 'l': '1.11393', 'c': '1.11421'},\n",
       "   'mid': {'o': '1.11404', 'h': '1.11494', 'l': '1.11400', 'c': '1.11427'},\n",
       "   'ask': {'o': '1.11411', 'h': '1.11500', 'l': '1.11408', 'c': '1.11433'}},\n",
       "  {'complete': True,\n",
       "   'volume': 468,\n",
       "   'time': '2022-01-27T21:00:00.000000000Z',\n",
       "   'bid': {'o': '1.11419', 'h': '1.11446', 'l': '1.11409', 'c': '1.11433'},\n",
       "   'mid': {'o': '1.11426', 'h': '1.11453', 'l': '1.11416', 'c': '1.11441'},\n",
       "   'ask': {'o': '1.11432', 'h': '1.11461', 'l': '1.11423', 'c': '1.11449'}},\n",
       "  {'complete': True,\n",
       "   'volume': 174,\n",
       "   'time': '2022-01-27T22:00:00.000000000Z',\n",
       "   'bid': {'o': '1.11423', 'h': '1.11433', 'l': '1.11360', 'c': '1.11420'},\n",
       "   'mid': {'o': '1.11473', 'h': '1.11473', 'l': '1.11392', 'c': '1.11444'},\n",
       "   'ask': {'o': '1.11523', 'h': '1.11523', 'l': '1.11419', 'c': '1.11469'}},\n",
       "  {'complete': False,\n",
       "   'volume': 87,\n",
       "   'time': '2022-01-27T23:00:00.000000000Z',\n",
       "   'bid': {'o': '1.11427', 'h': '1.11456', 'l': '1.11427', 'c': '1.11451'},\n",
       "   'mid': {'o': '1.11452', 'h': '1.11464', 'l': '1.11442', 'c': '1.11459'},\n",
       "   'ask': {'o': '1.11476', 'h': '1.11478', 'l': '1.11456', 'c': '1.11467'}}]}"
      ]
     },
     "execution_count": 9,
     "metadata": {},
     "output_type": "execute_result"
    }
   ],
   "source": [
    "response.json()"
   ]
  },
  {
   "cell_type": "markdown",
   "metadata": {},
   "source": [
    "Store JSON Response"
   ]
  },
  {
   "cell_type": "code",
   "execution_count": 10,
   "metadata": {},
   "outputs": [],
   "source": [
    "data = response.json()"
   ]
  },
  {
   "cell_type": "code",
   "execution_count": 11,
   "metadata": {},
   "outputs": [
    {
     "data": {
      "text/plain": [
       "dict_keys(['instrument', 'granularity', 'candles'])"
      ]
     },
     "execution_count": 11,
     "metadata": {},
     "output_type": "execute_result"
    }
   ],
   "source": [
    "data.keys()"
   ]
  },
  {
   "cell_type": "code",
   "execution_count": 14,
   "metadata": {},
   "outputs": [
    {
     "data": {
      "text/plain": [
       "10"
      ]
     },
     "execution_count": 14,
     "metadata": {},
     "output_type": "execute_result"
    }
   ],
   "source": [
    "len(data['candles'])"
   ]
  },
  {
   "cell_type": "code",
   "execution_count": 16,
   "metadata": {},
   "outputs": [],
   "source": [
    "prices = ['mid', 'bid', 'ask']\n",
    "ohlc = ['o', 'h', 'l', 'c']"
   ]
  },
  {
   "cell_type": "code",
   "execution_count": 17,
   "metadata": {},
   "outputs": [
    {
     "name": "stdout",
     "output_type": "stream",
     "text": [
      "mid_o\n",
      "mid_h\n",
      "mid_l\n",
      "mid_c\n",
      "bid_o\n",
      "bid_h\n",
      "bid_l\n",
      "bid_c\n",
      "ask_o\n",
      "ask_h\n",
      "ask_l\n",
      "ask_c\n"
     ]
    }
   ],
   "source": [
    "for price in prices:\n",
    "    for oh in ohlc:\n",
    "        print(f\"{price}_{oh}\")"
   ]
  },
  {
   "cell_type": "code",
   "execution_count": 21,
   "metadata": {},
   "outputs": [
    {
     "data": {
      "text/plain": [
       "{'complete': True,\n",
       " 'volume': 7782,\n",
       " 'time': '2022-01-27T14:00:00.000000000Z',\n",
       " 'bid': {'o': '1.11485', 'h': '1.11615', 'l': '1.11448', 'c': '1.11603'},\n",
       " 'mid': {'o': '1.11492', 'h': '1.11622', 'l': '1.11455', 'c': '1.11610'},\n",
       " 'ask': {'o': '1.11499', 'h': '1.11629', 'l': '1.11462', 'c': '1.11618'}}"
      ]
     },
     "execution_count": 21,
     "metadata": {},
     "output_type": "execute_result"
    }
   ],
   "source": [
    "data['candles'][0]"
   ]
  },
  {
   "cell_type": "code",
   "execution_count": 22,
   "metadata": {},
   "outputs": [
    {
     "data": {
      "text/plain": [
       "'1.11485'"
      ]
     },
     "execution_count": 22,
     "metadata": {},
     "output_type": "execute_result"
    }
   ],
   "source": [
    "data['candles'][0]['bid']['o']"
   ]
  },
  {
   "cell_type": "code",
   "execution_count": 26,
   "metadata": {},
   "outputs": [
    {
     "name": "stdout",
     "output_type": "stream",
     "text": [
      "{'time': '2022-01-27T14:00:00.000000000Z', 'volume': 7782, 'mid_o': '1.11492', 'mid_h': '1.11622', 'mid_l': '1.11455', 'mid_c': '1.11610', 'bid_o': '1.11485', 'bid_h': '1.11615', 'bid_l': '1.11448', 'bid_c': '1.11603', 'ask_o': '1.11499', 'ask_h': '1.11629', 'ask_l': '1.11462', 'ask_c': '1.11618'}\n"
     ]
    }
   ],
   "source": [
    "our_data = []\n",
    "for candle in data['candles']:\n",
    "    if candle['complete'] == False:\n",
    "        continue\n",
    "    new_dict ={}\n",
    "    new_dict['time'] = candle['time']\n",
    "    new_dict['volume'] = candle['volume']\n",
    "    # print(new_dict)\n",
    "\n",
    "    for price in prices:\n",
    "        for oh in ohlc:\n",
    "            new_dict[f\"{price}_{oh}\"] = candle[price][oh]\n",
    "\n",
    "    our_data.append(new_dict)\n",
    "# print(our_data)\n",
    "print(our_data[0])"
   ]
  },
  {
   "cell_type": "markdown",
   "metadata": {},
   "source": [
    "Now we make a new Data Frame from all our structured data of MID, BID, ASK x OHLC"
   ]
  },
  {
   "cell_type": "code",
   "execution_count": 28,
   "metadata": {},
   "outputs": [],
   "source": [
    "candles_df = pd.DataFrame.from_dict(our_data)"
   ]
  },
  {
   "cell_type": "code",
   "execution_count": 29,
   "metadata": {},
   "outputs": [
    {
     "data": {
      "text/html": [
       "<div>\n",
       "<style scoped>\n",
       "    .dataframe tbody tr th:only-of-type {\n",
       "        vertical-align: middle;\n",
       "    }\n",
       "\n",
       "    .dataframe tbody tr th {\n",
       "        vertical-align: top;\n",
       "    }\n",
       "\n",
       "    .dataframe thead th {\n",
       "        text-align: right;\n",
       "    }\n",
       "</style>\n",
       "<table border=\"1\" class=\"dataframe\">\n",
       "  <thead>\n",
       "    <tr style=\"text-align: right;\">\n",
       "      <th></th>\n",
       "      <th>time</th>\n",
       "      <th>volume</th>\n",
       "      <th>mid_o</th>\n",
       "      <th>mid_h</th>\n",
       "      <th>mid_l</th>\n",
       "      <th>mid_c</th>\n",
       "      <th>bid_o</th>\n",
       "      <th>bid_h</th>\n",
       "      <th>bid_l</th>\n",
       "      <th>bid_c</th>\n",
       "      <th>ask_o</th>\n",
       "      <th>ask_h</th>\n",
       "      <th>ask_l</th>\n",
       "      <th>ask_c</th>\n",
       "    </tr>\n",
       "  </thead>\n",
       "  <tbody>\n",
       "    <tr>\n",
       "      <th>0</th>\n",
       "      <td>2022-01-27T14:00:00.000000000Z</td>\n",
       "      <td>7782</td>\n",
       "      <td>1.11492</td>\n",
       "      <td>1.11622</td>\n",
       "      <td>1.11455</td>\n",
       "      <td>1.11610</td>\n",
       "      <td>1.11485</td>\n",
       "      <td>1.11615</td>\n",
       "      <td>1.11448</td>\n",
       "      <td>1.11603</td>\n",
       "      <td>1.11499</td>\n",
       "      <td>1.11629</td>\n",
       "      <td>1.11462</td>\n",
       "      <td>1.11618</td>\n",
       "    </tr>\n",
       "    <tr>\n",
       "      <th>1</th>\n",
       "      <td>2022-01-27T15:00:00.000000000Z</td>\n",
       "      <td>8257</td>\n",
       "      <td>1.11612</td>\n",
       "      <td>1.11617</td>\n",
       "      <td>1.11316</td>\n",
       "      <td>1.11494</td>\n",
       "      <td>1.11605</td>\n",
       "      <td>1.11609</td>\n",
       "      <td>1.11308</td>\n",
       "      <td>1.11487</td>\n",
       "      <td>1.11620</td>\n",
       "      <td>1.11625</td>\n",
       "      <td>1.11323</td>\n",
       "      <td>1.11500</td>\n",
       "    </tr>\n",
       "    <tr>\n",
       "      <th>2</th>\n",
       "      <td>2022-01-27T16:00:00.000000000Z</td>\n",
       "      <td>5951</td>\n",
       "      <td>1.11492</td>\n",
       "      <td>1.11618</td>\n",
       "      <td>1.11411</td>\n",
       "      <td>1.11423</td>\n",
       "      <td>1.11485</td>\n",
       "      <td>1.11611</td>\n",
       "      <td>1.11404</td>\n",
       "      <td>1.11416</td>\n",
       "      <td>1.11499</td>\n",
       "      <td>1.11626</td>\n",
       "      <td>1.11418</td>\n",
       "      <td>1.11430</td>\n",
       "    </tr>\n",
       "    <tr>\n",
       "      <th>3</th>\n",
       "      <td>2022-01-27T17:00:00.000000000Z</td>\n",
       "      <td>3445</td>\n",
       "      <td>1.11424</td>\n",
       "      <td>1.11515</td>\n",
       "      <td>1.11366</td>\n",
       "      <td>1.11392</td>\n",
       "      <td>1.11417</td>\n",
       "      <td>1.11508</td>\n",
       "      <td>1.11359</td>\n",
       "      <td>1.11385</td>\n",
       "      <td>1.11431</td>\n",
       "      <td>1.11523</td>\n",
       "      <td>1.11372</td>\n",
       "      <td>1.11398</td>\n",
       "    </tr>\n",
       "    <tr>\n",
       "      <th>4</th>\n",
       "      <td>2022-01-27T18:00:00.000000000Z</td>\n",
       "      <td>2658</td>\n",
       "      <td>1.11390</td>\n",
       "      <td>1.11468</td>\n",
       "      <td>1.11356</td>\n",
       "      <td>1.11445</td>\n",
       "      <td>1.11383</td>\n",
       "      <td>1.11461</td>\n",
       "      <td>1.11349</td>\n",
       "      <td>1.11437</td>\n",
       "      <td>1.11397</td>\n",
       "      <td>1.11476</td>\n",
       "      <td>1.11364</td>\n",
       "      <td>1.11453</td>\n",
       "    </tr>\n",
       "    <tr>\n",
       "      <th>5</th>\n",
       "      <td>2022-01-27T19:00:00.000000000Z</td>\n",
       "      <td>2307</td>\n",
       "      <td>1.11446</td>\n",
       "      <td>1.11471</td>\n",
       "      <td>1.11388</td>\n",
       "      <td>1.11405</td>\n",
       "      <td>1.11439</td>\n",
       "      <td>1.11464</td>\n",
       "      <td>1.11380</td>\n",
       "      <td>1.11398</td>\n",
       "      <td>1.11454</td>\n",
       "      <td>1.11478</td>\n",
       "      <td>1.11394</td>\n",
       "      <td>1.11412</td>\n",
       "    </tr>\n",
       "    <tr>\n",
       "      <th>6</th>\n",
       "      <td>2022-01-27T20:00:00.000000000Z</td>\n",
       "      <td>1936</td>\n",
       "      <td>1.11404</td>\n",
       "      <td>1.11494</td>\n",
       "      <td>1.11400</td>\n",
       "      <td>1.11427</td>\n",
       "      <td>1.11397</td>\n",
       "      <td>1.11487</td>\n",
       "      <td>1.11393</td>\n",
       "      <td>1.11421</td>\n",
       "      <td>1.11411</td>\n",
       "      <td>1.11500</td>\n",
       "      <td>1.11408</td>\n",
       "      <td>1.11433</td>\n",
       "    </tr>\n",
       "    <tr>\n",
       "      <th>7</th>\n",
       "      <td>2022-01-27T21:00:00.000000000Z</td>\n",
       "      <td>468</td>\n",
       "      <td>1.11426</td>\n",
       "      <td>1.11453</td>\n",
       "      <td>1.11416</td>\n",
       "      <td>1.11441</td>\n",
       "      <td>1.11419</td>\n",
       "      <td>1.11446</td>\n",
       "      <td>1.11409</td>\n",
       "      <td>1.11433</td>\n",
       "      <td>1.11432</td>\n",
       "      <td>1.11461</td>\n",
       "      <td>1.11423</td>\n",
       "      <td>1.11449</td>\n",
       "    </tr>\n",
       "    <tr>\n",
       "      <th>8</th>\n",
       "      <td>2022-01-27T22:00:00.000000000Z</td>\n",
       "      <td>174</td>\n",
       "      <td>1.11473</td>\n",
       "      <td>1.11473</td>\n",
       "      <td>1.11392</td>\n",
       "      <td>1.11444</td>\n",
       "      <td>1.11423</td>\n",
       "      <td>1.11433</td>\n",
       "      <td>1.11360</td>\n",
       "      <td>1.11420</td>\n",
       "      <td>1.11523</td>\n",
       "      <td>1.11523</td>\n",
       "      <td>1.11419</td>\n",
       "      <td>1.11469</td>\n",
       "    </tr>\n",
       "  </tbody>\n",
       "</table>\n",
       "</div>"
      ],
      "text/plain": [
       "                             time  volume    mid_o    mid_h    mid_l    mid_c  \\\n",
       "0  2022-01-27T14:00:00.000000000Z    7782  1.11492  1.11622  1.11455  1.11610   \n",
       "1  2022-01-27T15:00:00.000000000Z    8257  1.11612  1.11617  1.11316  1.11494   \n",
       "2  2022-01-27T16:00:00.000000000Z    5951  1.11492  1.11618  1.11411  1.11423   \n",
       "3  2022-01-27T17:00:00.000000000Z    3445  1.11424  1.11515  1.11366  1.11392   \n",
       "4  2022-01-27T18:00:00.000000000Z    2658  1.11390  1.11468  1.11356  1.11445   \n",
       "5  2022-01-27T19:00:00.000000000Z    2307  1.11446  1.11471  1.11388  1.11405   \n",
       "6  2022-01-27T20:00:00.000000000Z    1936  1.11404  1.11494  1.11400  1.11427   \n",
       "7  2022-01-27T21:00:00.000000000Z     468  1.11426  1.11453  1.11416  1.11441   \n",
       "8  2022-01-27T22:00:00.000000000Z     174  1.11473  1.11473  1.11392  1.11444   \n",
       "\n",
       "     bid_o    bid_h    bid_l    bid_c    ask_o    ask_h    ask_l    ask_c  \n",
       "0  1.11485  1.11615  1.11448  1.11603  1.11499  1.11629  1.11462  1.11618  \n",
       "1  1.11605  1.11609  1.11308  1.11487  1.11620  1.11625  1.11323  1.11500  \n",
       "2  1.11485  1.11611  1.11404  1.11416  1.11499  1.11626  1.11418  1.11430  \n",
       "3  1.11417  1.11508  1.11359  1.11385  1.11431  1.11523  1.11372  1.11398  \n",
       "4  1.11383  1.11461  1.11349  1.11437  1.11397  1.11476  1.11364  1.11453  \n",
       "5  1.11439  1.11464  1.11380  1.11398  1.11454  1.11478  1.11394  1.11412  \n",
       "6  1.11397  1.11487  1.11393  1.11421  1.11411  1.11500  1.11408  1.11433  \n",
       "7  1.11419  1.11446  1.11409  1.11433  1.11432  1.11461  1.11423  1.11449  \n",
       "8  1.11423  1.11433  1.11360  1.11420  1.11523  1.11523  1.11419  1.11469  "
      ]
     },
     "execution_count": 29,
     "metadata": {},
     "output_type": "execute_result"
    }
   ],
   "source": [
    "candles_df"
   ]
  },
  {
   "cell_type": "markdown",
   "metadata": {},
   "source": [
    "Save results to file so new updates just append to same file for future use with updated data"
   ]
  },
  {
   "cell_type": "code",
   "execution_count": 30,
   "metadata": {},
   "outputs": [],
   "source": [
    "candles_df.to_pickle(\"EUR_USD_H1.pkl\")"
   ]
  },
  {
   "cell_type": "code",
   "execution_count": 31,
   "metadata": {},
   "outputs": [
    {
     "data": {
      "text/html": [
       "<div>\n",
       "<style scoped>\n",
       "    .dataframe tbody tr th:only-of-type {\n",
       "        vertical-align: middle;\n",
       "    }\n",
       "\n",
       "    .dataframe tbody tr th {\n",
       "        vertical-align: top;\n",
       "    }\n",
       "\n",
       "    .dataframe thead th {\n",
       "        text-align: right;\n",
       "    }\n",
       "</style>\n",
       "<table border=\"1\" class=\"dataframe\">\n",
       "  <thead>\n",
       "    <tr style=\"text-align: right;\">\n",
       "      <th></th>\n",
       "      <th>time</th>\n",
       "      <th>volume</th>\n",
       "      <th>mid_o</th>\n",
       "      <th>mid_h</th>\n",
       "      <th>mid_l</th>\n",
       "      <th>mid_c</th>\n",
       "      <th>bid_o</th>\n",
       "      <th>bid_h</th>\n",
       "      <th>bid_l</th>\n",
       "      <th>bid_c</th>\n",
       "      <th>ask_o</th>\n",
       "      <th>ask_h</th>\n",
       "      <th>ask_l</th>\n",
       "      <th>ask_c</th>\n",
       "    </tr>\n",
       "  </thead>\n",
       "  <tbody>\n",
       "    <tr>\n",
       "      <th>0</th>\n",
       "      <td>2022-01-27T14:00:00.000000000Z</td>\n",
       "      <td>7782</td>\n",
       "      <td>1.11492</td>\n",
       "      <td>1.11622</td>\n",
       "      <td>1.11455</td>\n",
       "      <td>1.11610</td>\n",
       "      <td>1.11485</td>\n",
       "      <td>1.11615</td>\n",
       "      <td>1.11448</td>\n",
       "      <td>1.11603</td>\n",
       "      <td>1.11499</td>\n",
       "      <td>1.11629</td>\n",
       "      <td>1.11462</td>\n",
       "      <td>1.11618</td>\n",
       "    </tr>\n",
       "    <tr>\n",
       "      <th>1</th>\n",
       "      <td>2022-01-27T15:00:00.000000000Z</td>\n",
       "      <td>8257</td>\n",
       "      <td>1.11612</td>\n",
       "      <td>1.11617</td>\n",
       "      <td>1.11316</td>\n",
       "      <td>1.11494</td>\n",
       "      <td>1.11605</td>\n",
       "      <td>1.11609</td>\n",
       "      <td>1.11308</td>\n",
       "      <td>1.11487</td>\n",
       "      <td>1.11620</td>\n",
       "      <td>1.11625</td>\n",
       "      <td>1.11323</td>\n",
       "      <td>1.11500</td>\n",
       "    </tr>\n",
       "    <tr>\n",
       "      <th>2</th>\n",
       "      <td>2022-01-27T16:00:00.000000000Z</td>\n",
       "      <td>5951</td>\n",
       "      <td>1.11492</td>\n",
       "      <td>1.11618</td>\n",
       "      <td>1.11411</td>\n",
       "      <td>1.11423</td>\n",
       "      <td>1.11485</td>\n",
       "      <td>1.11611</td>\n",
       "      <td>1.11404</td>\n",
       "      <td>1.11416</td>\n",
       "      <td>1.11499</td>\n",
       "      <td>1.11626</td>\n",
       "      <td>1.11418</td>\n",
       "      <td>1.11430</td>\n",
       "    </tr>\n",
       "    <tr>\n",
       "      <th>3</th>\n",
       "      <td>2022-01-27T17:00:00.000000000Z</td>\n",
       "      <td>3445</td>\n",
       "      <td>1.11424</td>\n",
       "      <td>1.11515</td>\n",
       "      <td>1.11366</td>\n",
       "      <td>1.11392</td>\n",
       "      <td>1.11417</td>\n",
       "      <td>1.11508</td>\n",
       "      <td>1.11359</td>\n",
       "      <td>1.11385</td>\n",
       "      <td>1.11431</td>\n",
       "      <td>1.11523</td>\n",
       "      <td>1.11372</td>\n",
       "      <td>1.11398</td>\n",
       "    </tr>\n",
       "    <tr>\n",
       "      <th>4</th>\n",
       "      <td>2022-01-27T18:00:00.000000000Z</td>\n",
       "      <td>2658</td>\n",
       "      <td>1.11390</td>\n",
       "      <td>1.11468</td>\n",
       "      <td>1.11356</td>\n",
       "      <td>1.11445</td>\n",
       "      <td>1.11383</td>\n",
       "      <td>1.11461</td>\n",
       "      <td>1.11349</td>\n",
       "      <td>1.11437</td>\n",
       "      <td>1.11397</td>\n",
       "      <td>1.11476</td>\n",
       "      <td>1.11364</td>\n",
       "      <td>1.11453</td>\n",
       "    </tr>\n",
       "    <tr>\n",
       "      <th>5</th>\n",
       "      <td>2022-01-27T19:00:00.000000000Z</td>\n",
       "      <td>2307</td>\n",
       "      <td>1.11446</td>\n",
       "      <td>1.11471</td>\n",
       "      <td>1.11388</td>\n",
       "      <td>1.11405</td>\n",
       "      <td>1.11439</td>\n",
       "      <td>1.11464</td>\n",
       "      <td>1.11380</td>\n",
       "      <td>1.11398</td>\n",
       "      <td>1.11454</td>\n",
       "      <td>1.11478</td>\n",
       "      <td>1.11394</td>\n",
       "      <td>1.11412</td>\n",
       "    </tr>\n",
       "    <tr>\n",
       "      <th>6</th>\n",
       "      <td>2022-01-27T20:00:00.000000000Z</td>\n",
       "      <td>1936</td>\n",
       "      <td>1.11404</td>\n",
       "      <td>1.11494</td>\n",
       "      <td>1.11400</td>\n",
       "      <td>1.11427</td>\n",
       "      <td>1.11397</td>\n",
       "      <td>1.11487</td>\n",
       "      <td>1.11393</td>\n",
       "      <td>1.11421</td>\n",
       "      <td>1.11411</td>\n",
       "      <td>1.11500</td>\n",
       "      <td>1.11408</td>\n",
       "      <td>1.11433</td>\n",
       "    </tr>\n",
       "    <tr>\n",
       "      <th>7</th>\n",
       "      <td>2022-01-27T21:00:00.000000000Z</td>\n",
       "      <td>468</td>\n",
       "      <td>1.11426</td>\n",
       "      <td>1.11453</td>\n",
       "      <td>1.11416</td>\n",
       "      <td>1.11441</td>\n",
       "      <td>1.11419</td>\n",
       "      <td>1.11446</td>\n",
       "      <td>1.11409</td>\n",
       "      <td>1.11433</td>\n",
       "      <td>1.11432</td>\n",
       "      <td>1.11461</td>\n",
       "      <td>1.11423</td>\n",
       "      <td>1.11449</td>\n",
       "    </tr>\n",
       "    <tr>\n",
       "      <th>8</th>\n",
       "      <td>2022-01-27T22:00:00.000000000Z</td>\n",
       "      <td>174</td>\n",
       "      <td>1.11473</td>\n",
       "      <td>1.11473</td>\n",
       "      <td>1.11392</td>\n",
       "      <td>1.11444</td>\n",
       "      <td>1.11423</td>\n",
       "      <td>1.11433</td>\n",
       "      <td>1.11360</td>\n",
       "      <td>1.11420</td>\n",
       "      <td>1.11523</td>\n",
       "      <td>1.11523</td>\n",
       "      <td>1.11419</td>\n",
       "      <td>1.11469</td>\n",
       "    </tr>\n",
       "  </tbody>\n",
       "</table>\n",
       "</div>"
      ],
      "text/plain": [
       "                             time  volume    mid_o    mid_h    mid_l    mid_c  \\\n",
       "0  2022-01-27T14:00:00.000000000Z    7782  1.11492  1.11622  1.11455  1.11610   \n",
       "1  2022-01-27T15:00:00.000000000Z    8257  1.11612  1.11617  1.11316  1.11494   \n",
       "2  2022-01-27T16:00:00.000000000Z    5951  1.11492  1.11618  1.11411  1.11423   \n",
       "3  2022-01-27T17:00:00.000000000Z    3445  1.11424  1.11515  1.11366  1.11392   \n",
       "4  2022-01-27T18:00:00.000000000Z    2658  1.11390  1.11468  1.11356  1.11445   \n",
       "5  2022-01-27T19:00:00.000000000Z    2307  1.11446  1.11471  1.11388  1.11405   \n",
       "6  2022-01-27T20:00:00.000000000Z    1936  1.11404  1.11494  1.11400  1.11427   \n",
       "7  2022-01-27T21:00:00.000000000Z     468  1.11426  1.11453  1.11416  1.11441   \n",
       "8  2022-01-27T22:00:00.000000000Z     174  1.11473  1.11473  1.11392  1.11444   \n",
       "\n",
       "     bid_o    bid_h    bid_l    bid_c    ask_o    ask_h    ask_l    ask_c  \n",
       "0  1.11485  1.11615  1.11448  1.11603  1.11499  1.11629  1.11462  1.11618  \n",
       "1  1.11605  1.11609  1.11308  1.11487  1.11620  1.11625  1.11323  1.11500  \n",
       "2  1.11485  1.11611  1.11404  1.11416  1.11499  1.11626  1.11418  1.11430  \n",
       "3  1.11417  1.11508  1.11359  1.11385  1.11431  1.11523  1.11372  1.11398  \n",
       "4  1.11383  1.11461  1.11349  1.11437  1.11397  1.11476  1.11364  1.11453  \n",
       "5  1.11439  1.11464  1.11380  1.11398  1.11454  1.11478  1.11394  1.11412  \n",
       "6  1.11397  1.11487  1.11393  1.11421  1.11411  1.11500  1.11408  1.11433  \n",
       "7  1.11419  1.11446  1.11409  1.11433  1.11432  1.11461  1.11423  1.11449  \n",
       "8  1.11423  1.11433  1.11360  1.11420  1.11523  1.11523  1.11419  1.11469  "
      ]
     },
     "execution_count": 31,
     "metadata": {},
     "output_type": "execute_result"
    }
   ],
   "source": [
    "test_df = pd.read_pickle(\"EUR_USD_H1.pkl\")\n",
    "test_df"
   ]
  },
  {
   "cell_type": "code",
   "execution_count": null,
   "metadata": {},
   "outputs": [],
   "source": []
  }
 ],
 "metadata": {
  "interpreter": {
   "hash": "31929411b538e7e8805f5fd4edee4e5f3f6934ca80a60812a6992fcaa7d06445"
  },
  "kernelspec": {
   "display_name": "Python 3.9.10 64-bit ('venv': venv)",
   "language": "python",
   "name": "python3"
  },
  "language_info": {
   "codemirror_mode": {
    "name": "ipython",
    "version": 3
   },
   "file_extension": ".py",
   "mimetype": "text/x-python",
   "name": "python",
   "nbconvert_exporter": "python",
   "pygments_lexer": "ipython3",
   "version": "3.9.10"
  },
  "orig_nbformat": 4
 },
 "nbformat": 4,
 "nbformat_minor": 2
}
