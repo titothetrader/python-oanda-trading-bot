{
 "cells": [
  {
   "cell_type": "code",
   "execution_count": 2,
   "metadata": {},
   "outputs": [],
   "source": [
    "import requests\n",
    "import defs\n",
    "import pandas as pd\n"
   ]
  },
  {
   "cell_type": "code",
   "execution_count": 3,
   "metadata": {},
   "outputs": [],
   "source": [
    "session = requests.Session()"
   ]
  },
  {
   "cell_type": "code",
   "execution_count": 4,
   "metadata": {},
   "outputs": [],
   "source": [
    "ins_df = pd.read_pickle(\"instruments.pkl\")"
   ]
  },
  {
   "cell_type": "code",
   "execution_count": 5,
   "metadata": {},
   "outputs": [],
   "source": [
    "our_curr = ['EUR', 'USD', 'GBP', 'JPY', 'CHF', 'NZD', 'CAD']"
   ]
  },
  {
   "cell_type": "markdown",
   "metadata": {},
   "source": [
    "Exploring the power of Data Frames"
   ]
  },
  {
   "cell_type": "code",
   "execution_count": 6,
   "metadata": {},
   "outputs": [
    {
     "data": {
      "text/plain": [
       "(68, 5)"
      ]
     },
     "execution_count": 6,
     "metadata": {},
     "output_type": "execute_result"
    }
   ],
   "source": [
    "ins_df.shape"
   ]
  },
  {
   "cell_type": "code",
   "execution_count": 7,
   "metadata": {},
   "outputs": [
    {
     "data": {
      "text/plain": [
       "68"
      ]
     },
     "execution_count": 7,
     "metadata": {},
     "output_type": "execute_result"
    }
   ],
   "source": [
    "ins_df.shape[0]"
   ]
  },
  {
   "cell_type": "code",
   "execution_count": 8,
   "metadata": {},
   "outputs": [
    {
     "name": "stdout",
     "output_type": "stream",
     "text": [
      "<class 'pandas.core.frame.DataFrame'>\n",
      "RangeIndex: 68 entries, 0 to 67\n",
      "Data columns (total 5 columns):\n",
      " #   Column       Non-Null Count  Dtype \n",
      "---  ------       --------------  ----- \n",
      " 0   name         68 non-null     object\n",
      " 1   type         68 non-null     object\n",
      " 2   displayName  68 non-null     object\n",
      " 3   pipLocation  68 non-null     int64 \n",
      " 4   marginRate   68 non-null     object\n",
      "dtypes: int64(1), object(4)\n",
      "memory usage: 2.8+ KB\n"
     ]
    }
   ],
   "source": [
    "ins_df.info()"
   ]
  },
  {
   "cell_type": "markdown",
   "metadata": {},
   "source": [
    "Fetch Candles from Oanda API"
   ]
  },
  {
   "cell_type": "code",
   "execution_count": 9,
   "metadata": {},
   "outputs": [],
   "source": [
    "def fetch_candles(pair_name, count, granularity):\n",
    "    url = f\"{defs.OANDA_URL}/instruments/{pair_name}/candles\"\n",
    "    params = dict(\n",
    "        count = count,\n",
    "        granularity = granularity,\n",
    "        price = \"MBA\"\n",
    "    )\n",
    "    response = session.get(url, params=params, headers=defs.SECURE_HEADER)\n",
    "    return response.status_code, response.json()"
   ]
  },
  {
   "cell_type": "markdown",
   "metadata": {},
   "source": [
    "Get Candles from API Response"
   ]
  },
  {
   "cell_type": "code",
   "execution_count": 10,
   "metadata": {},
   "outputs": [],
   "source": [
    "def get_candles_df(json_response):\n",
    "    prices = ['mid', 'bid', 'ask']\n",
    "    ohlc = ['o', 'h', 'l', 'c']\n",
    "    our_data = []\n",
    "    for candle in json_response['candles']:\n",
    "        if candle['complete'] == False:\n",
    "            continue\n",
    "        new_dict = {}\n",
    "        new_dict['time'] = candle['time']\n",
    "        new_dict['volume'] = candle['volume']\n",
    "        for price in prices:\n",
    "            for oh in ohlc:\n",
    "                new_dict[f\"{price}_{oh}\"] = candle[price][oh]\n",
    "            our_data.append(new_dict)\n",
    "    return pd.DataFrame.from_dict(our_data)"
   ]
  },
  {
   "cell_type": "markdown",
   "metadata": {},
   "source": [
    "Function that Saves Data Frame to File"
   ]
  },
  {
   "cell_type": "code",
   "execution_count": 11,
   "metadata": {},
   "outputs": [],
   "source": [
    "def save_file(candles_df, pair, granularity):\n",
    "    candles_df.to_pickle(f\"his_data/{pair}_{granularity}.pkl\")"
   ]
  },
  {
   "cell_type": "markdown",
   "metadata": {},
   "source": [
    "Function to Create Data by iterating through all symbols"
   ]
  },
  {
   "cell_type": "code",
   "execution_count": 15,
   "metadata": {},
   "outputs": [],
   "source": [
    "def create_data (pair, granularity):\n",
    "    code, json_data = fetch_candles(pair, 4000, granularity)\n",
    "    if code != 200:\n",
    "        print(pair, f\"HTTP Error {code}\")\n",
    "        return\n",
    "    df = get_candles_df(json_data)\n",
    "    print(f\"{pair} loaded {df.shape[0]} candles from {df.time.min()} to {df.time.max()}\")\n",
    "    save_file(df, pair, granularity)"
   ]
  },
  {
   "cell_type": "code",
   "execution_count": 16,
   "metadata": {},
   "outputs": [
    {
     "name": "stdout",
     "output_type": "stream",
     "text": [
      "EUR_USD loaded 3 candles from 2021-06-09T09:00:00.000000000Z to 2021-06-09T09:00:00.000000000Z\n",
      "EUR_GBP loaded 3 candles from 2021-06-09T09:00:00.000000000Z to 2021-06-09T09:00:00.000000000Z\n",
      "EUR_JPY loaded 3 candles from 2021-06-09T09:00:00.000000000Z to 2021-06-09T09:00:00.000000000Z\n",
      "EUR_CHF loaded 3 candles from 2021-06-09T09:00:00.000000000Z to 2021-06-09T09:00:00.000000000Z\n",
      "EUR_NZD loaded 3 candles from 2021-06-09T09:00:00.000000000Z to 2021-06-09T09:00:00.000000000Z\n",
      "EUR_CAD loaded 3 candles from 2021-06-09T09:00:00.000000000Z to 2021-06-09T09:00:00.000000000Z\n",
      "USD_JPY loaded 3 candles from 2021-06-09T09:00:00.000000000Z to 2021-06-09T09:00:00.000000000Z\n",
      "USD_CHF loaded 3 candles from 2021-06-09T09:00:00.000000000Z to 2021-06-09T09:00:00.000000000Z\n",
      "USD_CAD loaded 3 candles from 2021-06-09T09:00:00.000000000Z to 2021-06-09T09:00:00.000000000Z\n",
      "GBP_USD loaded 3 candles from 2021-06-09T09:00:00.000000000Z to 2021-06-09T09:00:00.000000000Z\n",
      "GBP_JPY loaded 3 candles from 2021-06-09T09:00:00.000000000Z to 2021-06-09T09:00:00.000000000Z\n",
      "GBP_CHF loaded 3 candles from 2021-06-09T08:00:00.000000000Z to 2021-06-09T08:00:00.000000000Z\n",
      "GBP_NZD loaded 3 candles from 2021-06-09T09:00:00.000000000Z to 2021-06-09T09:00:00.000000000Z\n",
      "GBP_CAD loaded 3 candles from 2021-06-09T09:00:00.000000000Z to 2021-06-09T09:00:00.000000000Z\n",
      "CHF_JPY loaded 3 candles from 2021-06-09T08:00:00.000000000Z to 2021-06-09T08:00:00.000000000Z\n",
      "NZD_USD loaded 3 candles from 2021-06-09T11:00:00.000000000Z to 2021-06-09T11:00:00.000000000Z\n",
      "NZD_JPY loaded 3 candles from 2021-06-09T09:00:00.000000000Z to 2021-06-09T09:00:00.000000000Z\n",
      "NZD_CHF loaded 3 candles from 2021-06-09T09:00:00.000000000Z to 2021-06-09T09:00:00.000000000Z\n",
      "NZD_CAD loaded 3 candles from 2021-06-09T08:00:00.000000000Z to 2021-06-09T08:00:00.000000000Z\n",
      "CAD_JPY loaded 3 candles from 2021-06-09T09:00:00.000000000Z to 2021-06-09T09:00:00.000000000Z\n",
      "CAD_CHF loaded 3 candles from 2021-06-09T09:00:00.000000000Z to 2021-06-09T09:00:00.000000000Z\n"
     ]
    }
   ],
   "source": [
    "for p1 in our_curr:\n",
    "    for p2 in our_curr:\n",
    "        pair = f\"{p1}_{p2}\"\n",
    "        if pair in ins_df.name.unique():\n",
    "            create_data(pair, \"H1\")\n",
    "            "
   ]
  },
  {
   "cell_type": "code",
   "execution_count": null,
   "metadata": {},
   "outputs": [],
   "source": []
  },
  {
   "cell_type": "code",
   "execution_count": null,
   "metadata": {},
   "outputs": [],
   "source": []
  }
 ],
 "metadata": {
  "interpreter": {
   "hash": "31929411b538e7e8805f5fd4edee4e5f3f6934ca80a60812a6992fcaa7d06445"
  },
  "kernelspec": {
   "display_name": "Python 3.9.10 64-bit ('venv': venv)",
   "language": "python",
   "name": "python3"
  },
  "language_info": {
   "codemirror_mode": {
    "name": "ipython",
    "version": 3
   },
   "file_extension": ".py",
   "mimetype": "text/x-python",
   "name": "python",
   "nbconvert_exporter": "python",
   "pygments_lexer": "ipython3",
   "version": "3.9.10"
  },
  "orig_nbformat": 4
 },
 "nbformat": 4,
 "nbformat_minor": 2
}
